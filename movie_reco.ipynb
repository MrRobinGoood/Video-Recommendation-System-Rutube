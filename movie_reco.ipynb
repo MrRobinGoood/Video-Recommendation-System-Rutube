{
 "cells": [
  {
   "cell_type": "markdown",
   "metadata": {},
   "source": [
    "# Movie Recommendation using SentenceBERT"
   ]
  },
  {
   "cell_type": "code",
   "execution_count": 21,
   "metadata": {},
   "outputs": [
    {
     "data": {
      "text/plain": "         item_id                                        video_title  \\\n0   video_165654  MSI Pro MP241X недоОБЗОР (РЕШЕНИЕ ПРОБЛЕМЫ С М...   \n1  video_1173704       Наложение пястно фаланговой повязки на кисть   \n2    video_23927  SilverstoneF1 Sochi Pro и Neoline x cop 6000s ...   \n3  video_1003780  БОЛЬНИЦА в Brookhaven! ДОКТОР ПУПКИН спас ЖЕНИ...   \n4   video_105383  Вебинар \"Особенности трудоустройства граждан Б...   \n\n                 author_title  \\\n0                       Silvi   \n1  УЦ \"Академия Безопасности\"   \n2                     Artur48   \n3            ПАПА ДОЧКИ Games   \n4          ЗАО \"Сплайн-Центр\"   \n\n                                   video_description  \\\n0  В видео я обывательским взглядом расскажу про ...   \n1  Видео с канала УЦ Академия безопасности (ab-dp...   \n2  SilverstoneF1 Sochi Pro и Neoline x cop 6000s ...   \n3  Играем в Роблокс (Roblox) - БОЛЬНИЦА в Brookha...   \n4  10.08.2023 Вебинар \"Особенности трудоустройств...   \n\n                 category_title  \n0         Технологии и интернет  \n1                   Образование  \n2                     Авто-мото  \n3                         Детям  \n4  Бизнес и предпринимательство  ",
      "text/html": "<div>\n<style scoped>\n    .dataframe tbody tr th:only-of-type {\n        vertical-align: middle;\n    }\n\n    .dataframe tbody tr th {\n        vertical-align: top;\n    }\n\n    .dataframe thead th {\n        text-align: right;\n    }\n</style>\n<table border=\"1\" class=\"dataframe\">\n  <thead>\n    <tr style=\"text-align: right;\">\n      <th></th>\n      <th>item_id</th>\n      <th>video_title</th>\n      <th>author_title</th>\n      <th>video_description</th>\n      <th>category_title</th>\n    </tr>\n  </thead>\n  <tbody>\n    <tr>\n      <th>0</th>\n      <td>video_165654</td>\n      <td>MSI Pro MP241X недоОБЗОР (РЕШЕНИЕ ПРОБЛЕМЫ С М...</td>\n      <td>Silvi</td>\n      <td>В видео я обывательским взглядом расскажу про ...</td>\n      <td>Технологии и интернет</td>\n    </tr>\n    <tr>\n      <th>1</th>\n      <td>video_1173704</td>\n      <td>Наложение пястно фаланговой повязки на кисть</td>\n      <td>УЦ \"Академия Безопасности\"</td>\n      <td>Видео с канала УЦ Академия безопасности (ab-dp...</td>\n      <td>Образование</td>\n    </tr>\n    <tr>\n      <th>2</th>\n      <td>video_23927</td>\n      <td>SilverstoneF1 Sochi Pro и Neoline x cop 6000s ...</td>\n      <td>Artur48</td>\n      <td>SilverstoneF1 Sochi Pro и Neoline x cop 6000s ...</td>\n      <td>Авто-мото</td>\n    </tr>\n    <tr>\n      <th>3</th>\n      <td>video_1003780</td>\n      <td>БОЛЬНИЦА в Brookhaven! ДОКТОР ПУПКИН спас ЖЕНИ...</td>\n      <td>ПАПА ДОЧКИ Games</td>\n      <td>Играем в Роблокс (Roblox) - БОЛЬНИЦА в Brookha...</td>\n      <td>Детям</td>\n    </tr>\n    <tr>\n      <th>4</th>\n      <td>video_105383</td>\n      <td>Вебинар \"Особенности трудоустройства граждан Б...</td>\n      <td>ЗАО \"Сплайн-Центр\"</td>\n      <td>10.08.2023 Вебинар \"Особенности трудоустройств...</td>\n      <td>Бизнес и предпринимательство</td>\n    </tr>\n  </tbody>\n</table>\n</div>"
     },
     "execution_count": 21,
     "metadata": {},
     "output_type": "execute_result"
    }
   ],
   "source": [
    "import pandas as pd\n",
    "from sklearn.metrics.pairwise import cosine_similarity\n",
    "from sentence_transformers import SentenceTransformer\n",
    "\n",
    "movies = pd.read_parquet(\"videos.parquet\")\n",
    "movies = movies[['item_id','video_title','author_title','video_description','category_title']].iloc[:30000]\n",
    "movies.head(5)"
   ]
  },
  {
   "cell_type": "code",
   "execution_count": null,
   "outputs": [],
   "source": [],
   "metadata": {
    "collapsed": false
   }
  },
  {
   "cell_type": "code",
   "execution_count": 22,
   "metadata": {},
   "outputs": [],
   "source": [
    "movies[movies.isnull().any(axis=1)]\n",
    "movies['index'] = [i for i in range(0, len(movies))]\n",
    "movies = movies.dropna()"
   ]
  },
  {
   "cell_type": "code",
   "execution_count": 23,
   "metadata": {},
   "outputs": [],
   "source": [
    "def get_title(index):\n",
    "    return movies[movies.index == index][\"video_title\"].values[0]\n",
    "\n",
    "def get_index(item_id):\n",
    "    return movies[movies.item_id == item_id][\"index\"].values[0]"
   ]
  },
  {
   "cell_type": "code",
   "execution_count": 24,
   "outputs": [
    {
     "data": {
      "text/plain": "97240"
     },
     "execution_count": 24,
     "metadata": {},
     "output_type": "execute_result"
    }
   ],
   "source": [
    "s = pd.read_csv('sample_submission.csv')\n",
    "len(s)"
   ],
   "metadata": {
    "collapsed": false
   }
  },
  {
   "cell_type": "code",
   "execution_count": 25,
   "outputs": [
    {
     "data": {
      "text/plain": "          index                       date        user_id        item_id  \\\n0             6  2023-08-21 15:21:19+03:00  user_22148320  video_1366097   \n1             9  2023-08-21 00:35:41+03:00  user_14452025   video_283933   \n2            10  2023-08-21 15:30:12+03:00  user_17900299  video_1177349   \n3            21  2023-08-21 01:38:27+03:00  user_13198236   video_805119   \n4            30  2023-08-21 15:20:01+03:00    user_633255   video_786707   \n...         ...                        ...            ...            ...   \n641077  2439633  2023-08-21 01:49:45+03:00    user_529894   video_283933   \n641078  2439635  2023-08-21 19:29:55+03:00   user_6904201   video_897248   \n641079  2439637  2023-08-21 11:24:13+03:00   user_5350303   video_937559   \n641080  2439638  2023-08-21 16:44:47+03:00  user_11895299   video_853811   \n641081  2439641  2023-08-21 05:19:55+03:00   user_3507470   video_464555   \n\n        watch_time  is_autorized  date_short  active  \n0               32             0  2023-08-21    True  \n1             2142             0  2023-08-21    True  \n2             4162             0  2023-08-21    True  \n3               82             0  2023-08-21    True  \n4             2741             1  2023-08-21    True  \n...            ...           ...         ...     ...  \n641077        3990             0  2023-08-21    True  \n641078         392             0  2023-08-21    True  \n641079        2041             0  2023-08-21    True  \n641080         101             0  2023-08-21    True  \n641081         261             0  2023-08-21    True  \n\n[641082 rows x 8 columns]",
      "text/html": "<div>\n<style scoped>\n    .dataframe tbody tr th:only-of-type {\n        vertical-align: middle;\n    }\n\n    .dataframe tbody tr th {\n        vertical-align: top;\n    }\n\n    .dataframe thead th {\n        text-align: right;\n    }\n</style>\n<table border=\"1\" class=\"dataframe\">\n  <thead>\n    <tr style=\"text-align: right;\">\n      <th></th>\n      <th>index</th>\n      <th>date</th>\n      <th>user_id</th>\n      <th>item_id</th>\n      <th>watch_time</th>\n      <th>is_autorized</th>\n      <th>date_short</th>\n      <th>active</th>\n    </tr>\n  </thead>\n  <tbody>\n    <tr>\n      <th>0</th>\n      <td>6</td>\n      <td>2023-08-21 15:21:19+03:00</td>\n      <td>user_22148320</td>\n      <td>video_1366097</td>\n      <td>32</td>\n      <td>0</td>\n      <td>2023-08-21</td>\n      <td>True</td>\n    </tr>\n    <tr>\n      <th>1</th>\n      <td>9</td>\n      <td>2023-08-21 00:35:41+03:00</td>\n      <td>user_14452025</td>\n      <td>video_283933</td>\n      <td>2142</td>\n      <td>0</td>\n      <td>2023-08-21</td>\n      <td>True</td>\n    </tr>\n    <tr>\n      <th>2</th>\n      <td>10</td>\n      <td>2023-08-21 15:30:12+03:00</td>\n      <td>user_17900299</td>\n      <td>video_1177349</td>\n      <td>4162</td>\n      <td>0</td>\n      <td>2023-08-21</td>\n      <td>True</td>\n    </tr>\n    <tr>\n      <th>3</th>\n      <td>21</td>\n      <td>2023-08-21 01:38:27+03:00</td>\n      <td>user_13198236</td>\n      <td>video_805119</td>\n      <td>82</td>\n      <td>0</td>\n      <td>2023-08-21</td>\n      <td>True</td>\n    </tr>\n    <tr>\n      <th>4</th>\n      <td>30</td>\n      <td>2023-08-21 15:20:01+03:00</td>\n      <td>user_633255</td>\n      <td>video_786707</td>\n      <td>2741</td>\n      <td>1</td>\n      <td>2023-08-21</td>\n      <td>True</td>\n    </tr>\n    <tr>\n      <th>...</th>\n      <td>...</td>\n      <td>...</td>\n      <td>...</td>\n      <td>...</td>\n      <td>...</td>\n      <td>...</td>\n      <td>...</td>\n      <td>...</td>\n    </tr>\n    <tr>\n      <th>641077</th>\n      <td>2439633</td>\n      <td>2023-08-21 01:49:45+03:00</td>\n      <td>user_529894</td>\n      <td>video_283933</td>\n      <td>3990</td>\n      <td>0</td>\n      <td>2023-08-21</td>\n      <td>True</td>\n    </tr>\n    <tr>\n      <th>641078</th>\n      <td>2439635</td>\n      <td>2023-08-21 19:29:55+03:00</td>\n      <td>user_6904201</td>\n      <td>video_897248</td>\n      <td>392</td>\n      <td>0</td>\n      <td>2023-08-21</td>\n      <td>True</td>\n    </tr>\n    <tr>\n      <th>641079</th>\n      <td>2439637</td>\n      <td>2023-08-21 11:24:13+03:00</td>\n      <td>user_5350303</td>\n      <td>video_937559</td>\n      <td>2041</td>\n      <td>0</td>\n      <td>2023-08-21</td>\n      <td>True</td>\n    </tr>\n    <tr>\n      <th>641080</th>\n      <td>2439638</td>\n      <td>2023-08-21 16:44:47+03:00</td>\n      <td>user_11895299</td>\n      <td>video_853811</td>\n      <td>101</td>\n      <td>0</td>\n      <td>2023-08-21</td>\n      <td>True</td>\n    </tr>\n    <tr>\n      <th>641081</th>\n      <td>2439641</td>\n      <td>2023-08-21 05:19:55+03:00</td>\n      <td>user_3507470</td>\n      <td>video_464555</td>\n      <td>261</td>\n      <td>0</td>\n      <td>2023-08-21</td>\n      <td>True</td>\n    </tr>\n  </tbody>\n</table>\n<p>641082 rows × 8 columns</p>\n</div>"
     },
     "execution_count": 25,
     "metadata": {},
     "output_type": "execute_result"
    }
   ],
   "source": [
    "h = pd.read_csv('hack')\n",
    "h\n"
   ],
   "metadata": {
    "collapsed": false
   }
  },
  {
   "cell_type": "code",
   "execution_count": 6,
   "outputs": [
    {
     "data": {
      "text/plain": "          index                       date        user_id        item_id  \\\n0             6  2023-08-21 15:21:19+03:00  user_22148320  video_1366097   \n1             9  2023-08-21 00:35:41+03:00  user_14452025   video_283933   \n2            10  2023-08-21 15:30:12+03:00  user_17900299  video_1177349   \n3            21  2023-08-21 01:38:27+03:00  user_13198236   video_805119   \n4            30  2023-08-21 15:20:01+03:00    user_633255   video_786707   \n...         ...                        ...            ...            ...   \n641077  2439633  2023-08-21 01:49:45+03:00    user_529894   video_283933   \n641078  2439635  2023-08-21 19:29:55+03:00   user_6904201   video_897248   \n641079  2439637  2023-08-21 11:24:13+03:00   user_5350303   video_937559   \n641080  2439638  2023-08-21 16:44:47+03:00  user_11895299   video_853811   \n641081  2439641  2023-08-21 05:19:55+03:00   user_3507470   video_464555   \n\n        watch_time  is_autorized  date_short  active  \n0               32             0  2023-08-21    True  \n1             2142             0  2023-08-21    True  \n2             4162             0  2023-08-21    True  \n3               82             0  2023-08-21    True  \n4             2741             1  2023-08-21    True  \n...            ...           ...         ...     ...  \n641077        3990             0  2023-08-21    True  \n641078         392             0  2023-08-21    True  \n641079        2041             0  2023-08-21    True  \n641080         101             0  2023-08-21    True  \n641081         261             0  2023-08-21    True  \n\n[641082 rows x 8 columns]",
      "text/html": "<div>\n<style scoped>\n    .dataframe tbody tr th:only-of-type {\n        vertical-align: middle;\n    }\n\n    .dataframe tbody tr th {\n        vertical-align: top;\n    }\n\n    .dataframe thead th {\n        text-align: right;\n    }\n</style>\n<table border=\"1\" class=\"dataframe\">\n  <thead>\n    <tr style=\"text-align: right;\">\n      <th></th>\n      <th>index</th>\n      <th>date</th>\n      <th>user_id</th>\n      <th>item_id</th>\n      <th>watch_time</th>\n      <th>is_autorized</th>\n      <th>date_short</th>\n      <th>active</th>\n    </tr>\n  </thead>\n  <tbody>\n    <tr>\n      <th>0</th>\n      <td>6</td>\n      <td>2023-08-21 15:21:19+03:00</td>\n      <td>user_22148320</td>\n      <td>video_1366097</td>\n      <td>32</td>\n      <td>0</td>\n      <td>2023-08-21</td>\n      <td>True</td>\n    </tr>\n    <tr>\n      <th>1</th>\n      <td>9</td>\n      <td>2023-08-21 00:35:41+03:00</td>\n      <td>user_14452025</td>\n      <td>video_283933</td>\n      <td>2142</td>\n      <td>0</td>\n      <td>2023-08-21</td>\n      <td>True</td>\n    </tr>\n    <tr>\n      <th>2</th>\n      <td>10</td>\n      <td>2023-08-21 15:30:12+03:00</td>\n      <td>user_17900299</td>\n      <td>video_1177349</td>\n      <td>4162</td>\n      <td>0</td>\n      <td>2023-08-21</td>\n      <td>True</td>\n    </tr>\n    <tr>\n      <th>3</th>\n      <td>21</td>\n      <td>2023-08-21 01:38:27+03:00</td>\n      <td>user_13198236</td>\n      <td>video_805119</td>\n      <td>82</td>\n      <td>0</td>\n      <td>2023-08-21</td>\n      <td>True</td>\n    </tr>\n    <tr>\n      <th>4</th>\n      <td>30</td>\n      <td>2023-08-21 15:20:01+03:00</td>\n      <td>user_633255</td>\n      <td>video_786707</td>\n      <td>2741</td>\n      <td>1</td>\n      <td>2023-08-21</td>\n      <td>True</td>\n    </tr>\n    <tr>\n      <th>...</th>\n      <td>...</td>\n      <td>...</td>\n      <td>...</td>\n      <td>...</td>\n      <td>...</td>\n      <td>...</td>\n      <td>...</td>\n      <td>...</td>\n    </tr>\n    <tr>\n      <th>641077</th>\n      <td>2439633</td>\n      <td>2023-08-21 01:49:45+03:00</td>\n      <td>user_529894</td>\n      <td>video_283933</td>\n      <td>3990</td>\n      <td>0</td>\n      <td>2023-08-21</td>\n      <td>True</td>\n    </tr>\n    <tr>\n      <th>641078</th>\n      <td>2439635</td>\n      <td>2023-08-21 19:29:55+03:00</td>\n      <td>user_6904201</td>\n      <td>video_897248</td>\n      <td>392</td>\n      <td>0</td>\n      <td>2023-08-21</td>\n      <td>True</td>\n    </tr>\n    <tr>\n      <th>641079</th>\n      <td>2439637</td>\n      <td>2023-08-21 11:24:13+03:00</td>\n      <td>user_5350303</td>\n      <td>video_937559</td>\n      <td>2041</td>\n      <td>0</td>\n      <td>2023-08-21</td>\n      <td>True</td>\n    </tr>\n    <tr>\n      <th>641080</th>\n      <td>2439638</td>\n      <td>2023-08-21 16:44:47+03:00</td>\n      <td>user_11895299</td>\n      <td>video_853811</td>\n      <td>101</td>\n      <td>0</td>\n      <td>2023-08-21</td>\n      <td>True</td>\n    </tr>\n    <tr>\n      <th>641081</th>\n      <td>2439641</td>\n      <td>2023-08-21 05:19:55+03:00</td>\n      <td>user_3507470</td>\n      <td>video_464555</td>\n      <td>261</td>\n      <td>0</td>\n      <td>2023-08-21</td>\n      <td>True</td>\n    </tr>\n  </tbody>\n</table>\n<p>641082 rows × 8 columns</p>\n</div>"
     },
     "execution_count": 6,
     "metadata": {},
     "output_type": "execute_result"
    }
   ],
   "source": [],
   "metadata": {
    "collapsed": false
   }
  },
  {
   "cell_type": "code",
   "execution_count": 27,
   "metadata": {},
   "outputs": [],
   "source": [
    "import numpy\n",
    "\n",
    "bert = SentenceTransformer('bert-base-nli-mean-tokens')\n",
    "\n",
    "#просчёт векторов\n",
    "# sentence_embeddings = bert.encode(movies['video_title'].tolist())\n",
    "# similarity = cosine_similarity(sentence_embeddings)\n",
    "# numpy.savetxt(\"sim_video_title.csv\", similarity, delimiter=\",\")\n",
    "#\n",
    "# sentence_embeddings = bert.encode(movies['author_title'].tolist())\n",
    "# similarity = cosine_similarity(sentence_embeddings)\n",
    "# numpy.savetxt(\"sim_author_title.csv\", similarity, delimiter=\",\")\n",
    "#\n",
    "# sentence_embeddings = bert.encode(movies['video_description'].tolist())\n",
    "# similarity = cosine_similarity(sentence_embeddings)\n",
    "# numpy.savetxt(\"sim_video_description.csv\", similarity, delimiter=\",\")\n",
    "#\n",
    "# sentence_embeddings = bert.encode(movies['category_title'].tolist())\n",
    "# similarity = cosine_similarity(sentence_embeddings)\n",
    "# numpy.savetxt(\"sim_category_title.csv\", similarity, delimiter=\",\")\n",
    "\n",
    "#загрузка просчитанных векторов\n",
    "from numpy import genfromtxt\n",
    "# similarity = genfromtxt('similarity.csv', delimiter=',')\n",
    "sim1 = pd.read_csv('sim_video_description-003.csv')\n",
    "sim2 = pd.read_csv('sim2_video_description.csv')\n",
    "similarity = pd.concat([sim1, sim2])"
   ]
  },
  {
   "cell_type": "code",
   "execution_count": 28,
   "outputs": [],
   "source": [
    "ha = pd.read_parquet('videos.parquet')\n",
    "item_id = ha[['item_id']].iloc[:97240]\n"
   ],
   "metadata": {
    "collapsed": false
   }
  },
  {
   "cell_type": "code",
   "execution_count": 29,
   "outputs": [
    {
     "data": {
      "text/plain": "97240"
     },
     "execution_count": 29,
     "metadata": {},
     "output_type": "execute_result"
    }
   ],
   "source": [
    "len(item_id)"
   ],
   "metadata": {
    "collapsed": false
   }
  },
  {
   "cell_type": "code",
   "execution_count": 30,
   "metadata": {},
   "outputs": [
    {
     "name": "stdout",
     "output_type": "stream",
     "text": [
      "Operands are not aligned. Do `left, right = left.align(right, axis=1, copy=False)` before operating.\n"
     ]
    }
   ],
   "source": [
    "\n",
    "\n",
    "new = pd.DataFrame()\n",
    "\n",
    "for item in item_id:\n",
    "    try:\n",
    "        recommendations = sorted(list(enumerate(similarity[get_index(item_id)])), key = lambda x:x[1], reverse = True)\n",
    "        print(recommendations)\n",
    "        for t in recommendations:\n",
    "            print(get_title(t[0]))\n",
    "    except Exception as e:\n",
    "        print(e)\n"
   ]
  },
  {
   "cell_type": "code",
   "execution_count": 34,
   "outputs": [],
   "source": [
    "movies = pd.read_csv(\"train\")\n",
    "movies = movies[['item_id']].iloc[:97240]"
   ],
   "metadata": {
    "collapsed": false
   }
  },
  {
   "cell_type": "code",
   "execution_count": null,
   "outputs": [],
   "source": [
    "for i in range(len(movies)):\n",
    "    movies[i].strip('\"')"
   ],
   "metadata": {
    "collapsed": false
   }
  },
  {
   "cell_type": "code",
   "execution_count": 48,
   "outputs": [],
   "source": [
    "movies.to_csv('moveee.csv', index=False)"
   ],
   "metadata": {
    "collapsed": false
   }
  },
  {
   "cell_type": "code",
   "execution_count": null,
   "outputs": [],
   "source": [],
   "metadata": {
    "collapsed": false
   }
  },
  {
   "cell_type": "code",
   "execution_count": 36,
   "outputs": [],
   "source": [
    "s = pd.read_csv('sample_submission.csv')"
   ],
   "metadata": {
    "collapsed": false
   }
  },
  {
   "cell_type": "code",
   "execution_count": 37,
   "outputs": [],
   "source": [
    "s = s[['user_id']]"
   ],
   "metadata": {
    "collapsed": false
   }
  },
  {
   "cell_type": "code",
   "execution_count": 46,
   "outputs": [],
   "source": [
    "s.to_csv('asd.csv')"
   ],
   "metadata": {
    "collapsed": false
   }
  },
  {
   "cell_type": "code",
   "execution_count": 69,
   "outputs": [],
   "source": [
    "similarity = pd.DataFrame(s, columns=['user_id','recs'])"
   ],
   "metadata": {
    "collapsed": false
   }
  },
  {
   "cell_type": "code",
   "execution_count": 67,
   "outputs": [],
   "source": [
    "movies.to_excel('BBB.xlsx')"
   ],
   "metadata": {
    "collapsed": false
   }
  },
  {
   "cell_type": "code",
   "execution_count": 62,
   "outputs": [],
   "source": [
    "similarity.loc['recs'] = movies.item_id"
   ],
   "metadata": {
    "collapsed": false
   }
  },
  {
   "cell_type": "code",
   "execution_count": 64,
   "outputs": [],
   "source": [
    "similarity.to_csv('sad.csv')"
   ],
   "metadata": {
    "collapsed": false
   }
  },
  {
   "cell_type": "code",
   "execution_count": 70,
   "outputs": [
    {
     "data": {
      "text/plain": "             user_id  recs\n0      user_26511551   NaN\n1      user_29194819   NaN\n2      user_29734049   NaN\n3        user_955460   NaN\n4       user_7065521   NaN\n...              ...   ...\n97235  user_29281681   NaN\n97236   user_3912848   NaN\n97237  user_28389099   NaN\n97238  user_18951296   NaN\n97239  user_16411220   NaN\n\n[97240 rows x 2 columns]",
      "text/html": "<div>\n<style scoped>\n    .dataframe tbody tr th:only-of-type {\n        vertical-align: middle;\n    }\n\n    .dataframe tbody tr th {\n        vertical-align: top;\n    }\n\n    .dataframe thead th {\n        text-align: right;\n    }\n</style>\n<table border=\"1\" class=\"dataframe\">\n  <thead>\n    <tr style=\"text-align: right;\">\n      <th></th>\n      <th>user_id</th>\n      <th>recs</th>\n    </tr>\n  </thead>\n  <tbody>\n    <tr>\n      <th>0</th>\n      <td>user_26511551</td>\n      <td>NaN</td>\n    </tr>\n    <tr>\n      <th>1</th>\n      <td>user_29194819</td>\n      <td>NaN</td>\n    </tr>\n    <tr>\n      <th>2</th>\n      <td>user_29734049</td>\n      <td>NaN</td>\n    </tr>\n    <tr>\n      <th>3</th>\n      <td>user_955460</td>\n      <td>NaN</td>\n    </tr>\n    <tr>\n      <th>4</th>\n      <td>user_7065521</td>\n      <td>NaN</td>\n    </tr>\n    <tr>\n      <th>...</th>\n      <td>...</td>\n      <td>...</td>\n    </tr>\n    <tr>\n      <th>97235</th>\n      <td>user_29281681</td>\n      <td>NaN</td>\n    </tr>\n    <tr>\n      <th>97236</th>\n      <td>user_3912848</td>\n      <td>NaN</td>\n    </tr>\n    <tr>\n      <th>97237</th>\n      <td>user_28389099</td>\n      <td>NaN</td>\n    </tr>\n    <tr>\n      <th>97238</th>\n      <td>user_18951296</td>\n      <td>NaN</td>\n    </tr>\n    <tr>\n      <th>97239</th>\n      <td>user_16411220</td>\n      <td>NaN</td>\n    </tr>\n  </tbody>\n</table>\n<p>97240 rows × 2 columns</p>\n</div>"
     },
     "execution_count": 70,
     "metadata": {},
     "output_type": "execute_result"
    }
   ],
   "source": [
    "similarity"
   ],
   "metadata": {
    "collapsed": false
   }
  },
  {
   "cell_type": "code",
   "execution_count": 72,
   "outputs": [],
   "source": [
    "similarity.to_excel('AAA.xlsx',index=False)"
   ],
   "metadata": {
    "collapsed": false
   }
  },
  {
   "cell_type": "code",
   "execution_count": 41,
   "outputs": [],
   "source": [
    "similarity.loc[0] = s"
   ],
   "metadata": {
    "collapsed": false
   }
  },
  {
   "cell_type": "code",
   "execution_count": 42,
   "outputs": [],
   "source": [
    "similarity.loc[1] = movies"
   ],
   "metadata": {
    "collapsed": false
   }
  },
  {
   "cell_type": "code",
   "execution_count": 43,
   "outputs": [
    {
     "data": {
      "text/plain": "             user_id                                            item_id\n0      user_26511551                                                NaN\n1                NaN                                   ['video_856096']\n2      user_29734049                                                NaN\n3        user_955460                                                NaN\n4       user_7065521                                                NaN\n...              ...                                                ...\n97235            NaN                                  ['video_1721228']\n97236            NaN                 ['video_1105684', 'video_1558559']\n97237            NaN  ['video_1738263', 'video_1738263', 'video_1738...\n97238            NaN  ['video_1569589', 'video_736731', 'video_16248...\n97239            NaN  ['video_171530', 'video_171530', 'video_1232031']\n\n[194480 rows x 2 columns]",
      "text/html": "<div>\n<style scoped>\n    .dataframe tbody tr th:only-of-type {\n        vertical-align: middle;\n    }\n\n    .dataframe tbody tr th {\n        vertical-align: top;\n    }\n\n    .dataframe thead th {\n        text-align: right;\n    }\n</style>\n<table border=\"1\" class=\"dataframe\">\n  <thead>\n    <tr style=\"text-align: right;\">\n      <th></th>\n      <th>user_id</th>\n      <th>item_id</th>\n    </tr>\n  </thead>\n  <tbody>\n    <tr>\n      <th>0</th>\n      <td>user_26511551</td>\n      <td>NaN</td>\n    </tr>\n    <tr>\n      <th>1</th>\n      <td>NaN</td>\n      <td>['video_856096']</td>\n    </tr>\n    <tr>\n      <th>2</th>\n      <td>user_29734049</td>\n      <td>NaN</td>\n    </tr>\n    <tr>\n      <th>3</th>\n      <td>user_955460</td>\n      <td>NaN</td>\n    </tr>\n    <tr>\n      <th>4</th>\n      <td>user_7065521</td>\n      <td>NaN</td>\n    </tr>\n    <tr>\n      <th>...</th>\n      <td>...</td>\n      <td>...</td>\n    </tr>\n    <tr>\n      <th>97235</th>\n      <td>NaN</td>\n      <td>['video_1721228']</td>\n    </tr>\n    <tr>\n      <th>97236</th>\n      <td>NaN</td>\n      <td>['video_1105684', 'video_1558559']</td>\n    </tr>\n    <tr>\n      <th>97237</th>\n      <td>NaN</td>\n      <td>['video_1738263', 'video_1738263', 'video_1738...</td>\n    </tr>\n    <tr>\n      <th>97238</th>\n      <td>NaN</td>\n      <td>['video_1569589', 'video_736731', 'video_16248...</td>\n    </tr>\n    <tr>\n      <th>97239</th>\n      <td>NaN</td>\n      <td>['video_171530', 'video_171530', 'video_1232031']</td>\n    </tr>\n  </tbody>\n</table>\n<p>194480 rows × 2 columns</p>\n</div>"
     },
     "execution_count": 43,
     "metadata": {},
     "output_type": "execute_result"
    }
   ],
   "source": [
    "similarity"
   ],
   "metadata": {
    "collapsed": false
   }
  },
  {
   "cell_type": "code",
   "execution_count": null,
   "outputs": [],
   "source": [],
   "metadata": {
    "collapsed": false
   }
  }
 ],
 "metadata": {
  "kernelspec": {
   "display_name": "Python 3",
   "language": "python",
   "name": "python3"
  },
  "language_info": {
   "codemirror_mode": {
    "name": "ipython",
    "version": 3
   },
   "file_extension": ".py",
   "mimetype": "text/x-python",
   "name": "python",
   "nbconvert_exporter": "python",
   "pygments_lexer": "ipython3",
   "version": "3.8.10"
  }
 },
 "nbformat": 4,
 "nbformat_minor": 4
}
