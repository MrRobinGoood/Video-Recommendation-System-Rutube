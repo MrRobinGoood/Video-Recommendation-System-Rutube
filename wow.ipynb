{
 "cells": [
  {
   "cell_type": "code",
   "execution_count": 4,
   "outputs": [],
   "source": [
    "from threading import local\n",
    "\n",
    "\n",
    "def str_list_to_list_int(x):\n",
    "    res = x.strip('][').split(', ')\n",
    "    res = [int(i) for i in res]\n",
    "    return res"
   ],
   "metadata": {
    "collapsed": false
   }
  },
  {
   "cell_type": "code",
   "execution_count": 5,
   "outputs": [],
   "source": [
    "def str_list_to_list(x):\n",
    "    res = x.strip('][').split(', ')\n",
    "    return res"
   ],
   "metadata": {
    "collapsed": false
   }
  },
  {
   "cell_type": "code",
   "execution_count": 6,
   "outputs": [],
   "source": [
    "def duration_to_second(x):\n",
    "    x = str_list_to_list_int(x)\n",
    "    lst = []\n",
    "    for i in x:\n",
    "        lst.append(i / 1000)\n",
    "    return lst"
   ],
   "metadata": {
    "collapsed": false
   }
  },
  {
   "cell_type": "code",
   "execution_count": 7,
   "outputs": [],
   "source": [
    "import pandas as pd\n",
    "train_df = pd.read_csv(\"train\")"
   ],
   "metadata": {
    "collapsed": false
   }
  },
  {
   "cell_type": "code",
   "execution_count": 16,
   "outputs": [],
   "source": [
    "#test\n",
    "import pandas as pd\n",
    "test_df = pd.read_csv(\"sample_submission.csv\")\n",
    "\n",
    "test_df['recs'] = test_df['recs'].apply(str_list_to_list)"
   ],
   "metadata": {
    "collapsed": false
   }
  },
  {
   "cell_type": "code",
   "execution_count": 15,
   "outputs": [],
   "source": [
    "\n",
    "for i, row in test_df.iterrows():\n",
    "    print(row.values[0])\n",
    "    row.values[0] = pd.to_numeric(row.values[0].strip('user_'))\n"
   ],
   "metadata": {
    "collapsed": false
   }
  },
  {
   "cell_type": "code",
   "execution_count": 13,
   "outputs": [
    {
     "data": {
      "text/plain": "             user_id                                               recs\n0      user_26511551  ['video_0', 'video_0', 'video_0', 'video_0', '...\n1      user_29194819  ['video_0', 'video_0', 'video_0', 'video_0', '...\n2      user_29734049  ['video_0', 'video_0', 'video_0', 'video_0', '...\n3        user_955460  ['video_0', 'video_0', 'video_0', 'video_0', '...\n4       user_7065521  ['video_0', 'video_0', 'video_0', 'video_0', '...\n...              ...                                                ...\n97235  user_29281681  ['video_0', 'video_0', 'video_0', 'video_0', '...\n97236   user_3912848  ['video_0', 'video_0', 'video_0', 'video_0', '...\n97237  user_28389099  ['video_0', 'video_0', 'video_0', 'video_0', '...\n97238  user_18951296  ['video_0', 'video_0', 'video_0', 'video_0', '...\n97239  user_16411220  ['video_0', 'video_0', 'video_0', 'video_0', '...\n\n[97240 rows x 2 columns]",
      "text/html": "<div>\n<style scoped>\n    .dataframe tbody tr th:only-of-type {\n        vertical-align: middle;\n    }\n\n    .dataframe tbody tr th {\n        vertical-align: top;\n    }\n\n    .dataframe thead th {\n        text-align: right;\n    }\n</style>\n<table border=\"1\" class=\"dataframe\">\n  <thead>\n    <tr style=\"text-align: right;\">\n      <th></th>\n      <th>user_id</th>\n      <th>recs</th>\n    </tr>\n  </thead>\n  <tbody>\n    <tr>\n      <th>0</th>\n      <td>user_26511551</td>\n      <td>['video_0', 'video_0', 'video_0', 'video_0', '...</td>\n    </tr>\n    <tr>\n      <th>1</th>\n      <td>user_29194819</td>\n      <td>['video_0', 'video_0', 'video_0', 'video_0', '...</td>\n    </tr>\n    <tr>\n      <th>2</th>\n      <td>user_29734049</td>\n      <td>['video_0', 'video_0', 'video_0', 'video_0', '...</td>\n    </tr>\n    <tr>\n      <th>3</th>\n      <td>user_955460</td>\n      <td>['video_0', 'video_0', 'video_0', 'video_0', '...</td>\n    </tr>\n    <tr>\n      <th>4</th>\n      <td>user_7065521</td>\n      <td>['video_0', 'video_0', 'video_0', 'video_0', '...</td>\n    </tr>\n    <tr>\n      <th>...</th>\n      <td>...</td>\n      <td>...</td>\n    </tr>\n    <tr>\n      <th>97235</th>\n      <td>user_29281681</td>\n      <td>['video_0', 'video_0', 'video_0', 'video_0', '...</td>\n    </tr>\n    <tr>\n      <th>97236</th>\n      <td>user_3912848</td>\n      <td>['video_0', 'video_0', 'video_0', 'video_0', '...</td>\n    </tr>\n    <tr>\n      <th>97237</th>\n      <td>user_28389099</td>\n      <td>['video_0', 'video_0', 'video_0', 'video_0', '...</td>\n    </tr>\n    <tr>\n      <th>97238</th>\n      <td>user_18951296</td>\n      <td>['video_0', 'video_0', 'video_0', 'video_0', '...</td>\n    </tr>\n    <tr>\n      <th>97239</th>\n      <td>user_16411220</td>\n      <td>['video_0', 'video_0', 'video_0', 'video_0', '...</td>\n    </tr>\n  </tbody>\n</table>\n<p>97240 rows × 2 columns</p>\n</div>"
     },
     "execution_count": 13,
     "metadata": {},
     "output_type": "execute_result"
    }
   ],
   "source": [
    "test_df"
   ],
   "metadata": {
    "collapsed": false
   }
  },
  {
   "cell_type": "code",
   "execution_count": 5,
   "outputs": [],
   "source": [
    "train_df['watch_time'] = train_df['watch_time'].apply(str_list_to_list_int)"
   ],
   "metadata": {
    "collapsed": false
   }
  },
  {
   "cell_type": "code",
   "execution_count": 6,
   "outputs": [],
   "source": [
    "train_df['item_id'] = train_df['item_id'].apply(str_list_to_list)"
   ],
   "metadata": {
    "collapsed": false
   }
  },
  {
   "cell_type": "code",
   "execution_count": 7,
   "outputs": [],
   "source": [
    "train_df['duration'] = train_df['duration'].apply(duration_to_second)"
   ],
   "metadata": {
    "collapsed": false
   }
  },
  {
   "cell_type": "code",
   "execution_count": 8,
   "outputs": [],
   "source": [
    "def calc_rait(row):\n",
    "    lst = []\n",
    "    for i in range(len(row.watch_time)):\n",
    "        lst.append(round(row.watch_time[i] / (row.duration[i] + 0.001), 3))\n",
    "    return lst"
   ],
   "metadata": {
    "collapsed": false
   }
  },
  {
   "cell_type": "code",
   "execution_count": 9,
   "outputs": [
    {
     "data": {
      "text/plain": "              user_id                                            item_id  \\\n0       user_10000000                                  ['video_1487101']   \n1       user_10000099                                   ['video_856096']   \n2        user_1000020                                   ['video_547304']   \n3       user_10000345  ['video_1393364', 'video_2084529', 'video_4947...   \n4       user_10000388                                   ['video_283933']   \n...               ...                                                ...   \n140104   user_9998487                                  ['video_1893827']   \n140105   user_9998803                                   ['video_984416']   \n140106   user_9999389                                  ['video_1250322']   \n140107   user_9999509                                  ['video_1409879']   \n140108   user_9999659                                    ['video_61502']   \n\n                            watch_time  \\\n0                               [2310]   \n1                                [172]   \n2                                [902]   \n3       [359, 399, 244, 458, 247, 653]   \n4                               [1823]   \n...                                ...   \n140104                          [1589]   \n140105                          [1990]   \n140106                          [2421]   \n140107                          [3583]   \n140108                           [121]   \n\n                                                 duration  \\\n0                                               [5377.48]   \n1                                                [176.36]   \n2                                                [2941.0]   \n3       [373.889, 450.731, 273.409, 498.369, 303.723, ...   \n4                                               [5616.28]   \n...                                                   ...   \n140104                                           [4276.8]   \n140105                                          [6365.68]   \n140106                                         [2437.203]   \n140107                                         [4362.658]   \n140108                                            [124.9]   \n\n                                          raiting  \n0                                          [0.43]  \n1                                         [0.975]  \n2                                         [0.307]  \n3       [0.96, 0.885, 0.892, 0.919, 0.813, 0.994]  \n4                                         [0.325]  \n...                                           ...  \n140104                                    [0.372]  \n140105                                    [0.313]  \n140106                                    [0.993]  \n140107                                    [0.821]  \n140108                                    [0.969]  \n\n[140109 rows x 5 columns]",
      "text/html": "<div>\n<style scoped>\n    .dataframe tbody tr th:only-of-type {\n        vertical-align: middle;\n    }\n\n    .dataframe tbody tr th {\n        vertical-align: top;\n    }\n\n    .dataframe thead th {\n        text-align: right;\n    }\n</style>\n<table border=\"1\" class=\"dataframe\">\n  <thead>\n    <tr style=\"text-align: right;\">\n      <th></th>\n      <th>user_id</th>\n      <th>item_id</th>\n      <th>watch_time</th>\n      <th>duration</th>\n      <th>raiting</th>\n    </tr>\n  </thead>\n  <tbody>\n    <tr>\n      <th>0</th>\n      <td>user_10000000</td>\n      <td>['video_1487101']</td>\n      <td>[2310]</td>\n      <td>[5377.48]</td>\n      <td>[0.43]</td>\n    </tr>\n    <tr>\n      <th>1</th>\n      <td>user_10000099</td>\n      <td>['video_856096']</td>\n      <td>[172]</td>\n      <td>[176.36]</td>\n      <td>[0.975]</td>\n    </tr>\n    <tr>\n      <th>2</th>\n      <td>user_1000020</td>\n      <td>['video_547304']</td>\n      <td>[902]</td>\n      <td>[2941.0]</td>\n      <td>[0.307]</td>\n    </tr>\n    <tr>\n      <th>3</th>\n      <td>user_10000345</td>\n      <td>['video_1393364', 'video_2084529', 'video_4947...</td>\n      <td>[359, 399, 244, 458, 247, 653]</td>\n      <td>[373.889, 450.731, 273.409, 498.369, 303.723, ...</td>\n      <td>[0.96, 0.885, 0.892, 0.919, 0.813, 0.994]</td>\n    </tr>\n    <tr>\n      <th>4</th>\n      <td>user_10000388</td>\n      <td>['video_283933']</td>\n      <td>[1823]</td>\n      <td>[5616.28]</td>\n      <td>[0.325]</td>\n    </tr>\n    <tr>\n      <th>...</th>\n      <td>...</td>\n      <td>...</td>\n      <td>...</td>\n      <td>...</td>\n      <td>...</td>\n    </tr>\n    <tr>\n      <th>140104</th>\n      <td>user_9998487</td>\n      <td>['video_1893827']</td>\n      <td>[1589]</td>\n      <td>[4276.8]</td>\n      <td>[0.372]</td>\n    </tr>\n    <tr>\n      <th>140105</th>\n      <td>user_9998803</td>\n      <td>['video_984416']</td>\n      <td>[1990]</td>\n      <td>[6365.68]</td>\n      <td>[0.313]</td>\n    </tr>\n    <tr>\n      <th>140106</th>\n      <td>user_9999389</td>\n      <td>['video_1250322']</td>\n      <td>[2421]</td>\n      <td>[2437.203]</td>\n      <td>[0.993]</td>\n    </tr>\n    <tr>\n      <th>140107</th>\n      <td>user_9999509</td>\n      <td>['video_1409879']</td>\n      <td>[3583]</td>\n      <td>[4362.658]</td>\n      <td>[0.821]</td>\n    </tr>\n    <tr>\n      <th>140108</th>\n      <td>user_9999659</td>\n      <td>['video_61502']</td>\n      <td>[121]</td>\n      <td>[124.9]</td>\n      <td>[0.969]</td>\n    </tr>\n  </tbody>\n</table>\n<p>140109 rows × 5 columns</p>\n</div>"
     },
     "execution_count": 9,
     "metadata": {},
     "output_type": "execute_result"
    }
   ],
   "source": [
    "train_df['raiting'] = train_df.apply(lambda row: calc_rait(row), axis=1)\n",
    "train_df"
   ],
   "metadata": {
    "collapsed": false
   }
  },
  {
   "cell_type": "code",
   "execution_count": 10,
   "outputs": [
    {
     "data": {
      "text/plain": "              user_id                                            item_id  \\\n0       user_10000000                                  ['video_1487101']   \n1       user_10000099                                   ['video_856096']   \n2        user_1000020                                   ['video_547304']   \n3       user_10000345  ['video_1393364', 'video_2084529', 'video_4947...   \n4       user_10000388                                   ['video_283933']   \n...               ...                                                ...   \n140104   user_9998487                                  ['video_1893827']   \n140105   user_9998803                                   ['video_984416']   \n140106   user_9999389                                  ['video_1250322']   \n140107   user_9999509                                  ['video_1409879']   \n140108   user_9999659                                    ['video_61502']   \n\n                                          raiting  \n0                                          [0.43]  \n1                                         [0.975]  \n2                                         [0.307]  \n3       [0.96, 0.885, 0.892, 0.919, 0.813, 0.994]  \n4                                         [0.325]  \n...                                           ...  \n140104                                    [0.372]  \n140105                                    [0.313]  \n140106                                    [0.993]  \n140107                                    [0.821]  \n140108                                    [0.969]  \n\n[140109 rows x 3 columns]",
      "text/html": "<div>\n<style scoped>\n    .dataframe tbody tr th:only-of-type {\n        vertical-align: middle;\n    }\n\n    .dataframe tbody tr th {\n        vertical-align: top;\n    }\n\n    .dataframe thead th {\n        text-align: right;\n    }\n</style>\n<table border=\"1\" class=\"dataframe\">\n  <thead>\n    <tr style=\"text-align: right;\">\n      <th></th>\n      <th>user_id</th>\n      <th>item_id</th>\n      <th>raiting</th>\n    </tr>\n  </thead>\n  <tbody>\n    <tr>\n      <th>0</th>\n      <td>user_10000000</td>\n      <td>['video_1487101']</td>\n      <td>[0.43]</td>\n    </tr>\n    <tr>\n      <th>1</th>\n      <td>user_10000099</td>\n      <td>['video_856096']</td>\n      <td>[0.975]</td>\n    </tr>\n    <tr>\n      <th>2</th>\n      <td>user_1000020</td>\n      <td>['video_547304']</td>\n      <td>[0.307]</td>\n    </tr>\n    <tr>\n      <th>3</th>\n      <td>user_10000345</td>\n      <td>['video_1393364', 'video_2084529', 'video_4947...</td>\n      <td>[0.96, 0.885, 0.892, 0.919, 0.813, 0.994]</td>\n    </tr>\n    <tr>\n      <th>4</th>\n      <td>user_10000388</td>\n      <td>['video_283933']</td>\n      <td>[0.325]</td>\n    </tr>\n    <tr>\n      <th>...</th>\n      <td>...</td>\n      <td>...</td>\n      <td>...</td>\n    </tr>\n    <tr>\n      <th>140104</th>\n      <td>user_9998487</td>\n      <td>['video_1893827']</td>\n      <td>[0.372]</td>\n    </tr>\n    <tr>\n      <th>140105</th>\n      <td>user_9998803</td>\n      <td>['video_984416']</td>\n      <td>[0.313]</td>\n    </tr>\n    <tr>\n      <th>140106</th>\n      <td>user_9999389</td>\n      <td>['video_1250322']</td>\n      <td>[0.993]</td>\n    </tr>\n    <tr>\n      <th>140107</th>\n      <td>user_9999509</td>\n      <td>['video_1409879']</td>\n      <td>[0.821]</td>\n    </tr>\n    <tr>\n      <th>140108</th>\n      <td>user_9999659</td>\n      <td>['video_61502']</td>\n      <td>[0.969]</td>\n    </tr>\n  </tbody>\n</table>\n<p>140109 rows × 3 columns</p>\n</div>"
     },
     "execution_count": 10,
     "metadata": {},
     "output_type": "execute_result"
    }
   ],
   "source": [
    "df = train_df[['user_id','item_id','raiting']]\n",
    "df"
   ],
   "metadata": {
    "collapsed": false
   }
  },
  {
   "cell_type": "code",
   "execution_count": 11,
   "outputs": [],
   "source": [
    "clean_data = []\n",
    "for i, row in df.iterrows():\n",
    "    if len(row.values[1]) >= len(row.values[2]):\n",
    "        length = len(row.values[1])\n",
    "    else:\n",
    "        length = len(row.values[2])\n",
    "    for j in range(length):\n",
    "        clean_data.append([pd.to_numeric(row.values[0].strip(\"user_\")), pd.to_numeric(row.values[1][j].strip(\"'\").strip(\"video_\")), pd.to_numeric(row.values[2][j])])"
   ],
   "metadata": {
    "collapsed": false
   }
  },
  {
   "cell_type": "code",
   "execution_count": 12,
   "outputs": [],
   "source": [
    "clean_data_df = pd.DataFrame(clean_data, columns=['user_id','item_id','raiting'])\n"
   ],
   "metadata": {
    "collapsed": false
   }
  },
  {
   "cell_type": "code",
   "execution_count": 13,
   "outputs": [
    {
     "data": {
      "text/plain": "         user_id  item_id  raiting\n0       10000000  1487101    0.430\n1       10000099   856096    0.975\n2        1000020   547304    0.307\n3       10000345  1393364    0.960\n4       10000345  2084529    0.885\n...          ...      ...      ...\n396153   9998487  1893827    0.372\n396154   9998803   984416    0.313\n396155   9999389  1250322    0.993\n396156   9999509  1409879    0.821\n396157   9999659    61502    0.969\n\n[396158 rows x 3 columns]",
      "text/html": "<div>\n<style scoped>\n    .dataframe tbody tr th:only-of-type {\n        vertical-align: middle;\n    }\n\n    .dataframe tbody tr th {\n        vertical-align: top;\n    }\n\n    .dataframe thead th {\n        text-align: right;\n    }\n</style>\n<table border=\"1\" class=\"dataframe\">\n  <thead>\n    <tr style=\"text-align: right;\">\n      <th></th>\n      <th>user_id</th>\n      <th>item_id</th>\n      <th>raiting</th>\n    </tr>\n  </thead>\n  <tbody>\n    <tr>\n      <th>0</th>\n      <td>10000000</td>\n      <td>1487101</td>\n      <td>0.430</td>\n    </tr>\n    <tr>\n      <th>1</th>\n      <td>10000099</td>\n      <td>856096</td>\n      <td>0.975</td>\n    </tr>\n    <tr>\n      <th>2</th>\n      <td>1000020</td>\n      <td>547304</td>\n      <td>0.307</td>\n    </tr>\n    <tr>\n      <th>3</th>\n      <td>10000345</td>\n      <td>1393364</td>\n      <td>0.960</td>\n    </tr>\n    <tr>\n      <th>4</th>\n      <td>10000345</td>\n      <td>2084529</td>\n      <td>0.885</td>\n    </tr>\n    <tr>\n      <th>...</th>\n      <td>...</td>\n      <td>...</td>\n      <td>...</td>\n    </tr>\n    <tr>\n      <th>396153</th>\n      <td>9998487</td>\n      <td>1893827</td>\n      <td>0.372</td>\n    </tr>\n    <tr>\n      <th>396154</th>\n      <td>9998803</td>\n      <td>984416</td>\n      <td>0.313</td>\n    </tr>\n    <tr>\n      <th>396155</th>\n      <td>9999389</td>\n      <td>1250322</td>\n      <td>0.993</td>\n    </tr>\n    <tr>\n      <th>396156</th>\n      <td>9999509</td>\n      <td>1409879</td>\n      <td>0.821</td>\n    </tr>\n    <tr>\n      <th>396157</th>\n      <td>9999659</td>\n      <td>61502</td>\n      <td>0.969</td>\n    </tr>\n  </tbody>\n</table>\n<p>396158 rows × 3 columns</p>\n</div>"
     },
     "execution_count": 13,
     "metadata": {},
     "output_type": "execute_result"
    }
   ],
   "source": [
    "clean_data_df"
   ],
   "metadata": {
    "collapsed": false
   }
  },
  {
   "cell_type": "code",
   "execution_count": 14,
   "outputs": [],
   "source": [
    "clean_data_df.to_csv(\"clean_data_df.csv\", index=False)"
   ],
   "metadata": {
    "collapsed": false
   }
  },
  {
   "cell_type": "code",
   "execution_count": 23,
   "outputs": [],
   "source": [
    "from pyspark.sql.functions import col, explode\n",
    "from pyspark import SparkContext"
   ],
   "metadata": {
    "collapsed": false
   }
  },
  {
   "cell_type": "code",
   "execution_count": 24,
   "outputs": [],
   "source": [
    "from pyspark.sql import SparkSession\n",
    "sc = SparkContext\n",
    "# sc.setCheckpointDir('checkpoint')\n",
    "spark = SparkSession.builder.appName('Recommendations').getOrCreate()"
   ],
   "metadata": {
    "collapsed": false
   }
  },
  {
   "cell_type": "code",
   "execution_count": 25,
   "outputs": [],
   "source": [
    "ratings = spark.createDataFrame(clean_data_df)"
   ],
   "metadata": {
    "collapsed": false
   }
  },
  {
   "cell_type": "code",
   "execution_count": 26,
   "outputs": [],
   "source": [
    "from pyspark.ml.evaluation import RegressionEvaluator\n",
    "from pyspark.ml.recommendation import ALS\n",
    "from pyspark.ml.tuning import ParamGridBuilder, CrossValidator"
   ],
   "metadata": {
    "collapsed": false
   }
  },
  {
   "cell_type": "code",
   "execution_count": 27,
   "outputs": [
    {
     "data": {
      "text/plain": "pyspark.ml.recommendation.ALS"
     },
     "execution_count": 27,
     "metadata": {},
     "output_type": "execute_result"
    }
   ],
   "source": [
    "# Create test and train set\n",
    "(train, test) = ratings.randomSplit([0.8, 0.2], seed = 1234)\n",
    "\n",
    "# Create ALS model\n",
    "als = ALS(userCol=\"user_id\", itemCol=\"item_id\", ratingCol=\"raiting\", nonnegative = True, implicitPrefs = False, coldStartStrategy=\"drop\")\n",
    "\n",
    "# Confirm that a model called \"als\" was created\n",
    "type(als)"
   ],
   "metadata": {
    "collapsed": false
   }
  },
  {
   "cell_type": "code",
   "execution_count": 28,
   "outputs": [
    {
     "name": "stdout",
     "output_type": "stream",
     "text": [
      "Num models to be tested:  16\n"
     ]
    }
   ],
   "source": [
    "from pyspark.ml.evaluation import RegressionEvaluator\n",
    "from pyspark.ml.tuning import ParamGridBuilder, CrossValidator\n",
    "\n",
    "# Add hyperparameters and their respective values to param_grid\n",
    "param_grid = ParamGridBuilder() \\\n",
    "            .addGrid(als.rank, [10, 50, 100, 150]) \\\n",
    "            .addGrid(als.regParam, [.01, .05, .1, .15]) \\\n",
    "            .build()\n",
    "            #             .addGrid(als.maxIter, [5, 50, 100, 200]) \\\n",
    "\n",
    "\n",
    "# Define evaluator as RMSE and print length of evaluator\n",
    "evaluator = RegressionEvaluator(metricName=\"rmse\", labelCol=\"raiting\", predictionCol=\"prediction\")\n",
    "print (\"Num models to be tested: \", len(param_grid))"
   ],
   "metadata": {
    "collapsed": false
   }
  },
  {
   "cell_type": "code",
   "execution_count": 29,
   "outputs": [
    {
     "name": "stdout",
     "output_type": "stream",
     "text": [
      "CrossValidator_2c79e3fd2ec8\n"
     ]
    }
   ],
   "source": [
    "# Build cross validation using CrossValidator\n",
    "cv = CrossValidator(estimator=als, estimatorParamMaps=param_grid, evaluator=evaluator, numFolds=5)\n",
    "\n",
    "# Confirm cv was built\n",
    "print(cv)"
   ],
   "metadata": {
    "collapsed": false
   }
  },
  {
   "cell_type": "code",
   "execution_count": 30,
   "outputs": [],
   "source": [
    "#Fit cross validator to the 'train' dataset\n",
    "model = cv.fit(train)\n",
    "\n",
    "#Extract best model from the cv model above\n",
    "best_model = model.bestModel"
   ],
   "metadata": {
    "collapsed": false
   }
  },
  {
   "cell_type": "code",
   "execution_count": 33,
   "outputs": [],
   "source": [
    "# Generate n Recommendations for all users\n",
    "nrecommendations = best_model.recommendForAllUsers(10)"
   ],
   "metadata": {
    "collapsed": false
   }
  },
  {
   "cell_type": "code",
   "execution_count": 34,
   "outputs": [
    {
     "name": "stdout",
     "output_type": "stream",
     "text": [
      "+-------+--------------------+\n",
      "|user_id|     recommendations|\n",
      "+-------+--------------------+\n",
      "|   5173|[{1546850, 0.0}, ...|\n",
      "|   8665|[{38088, 44732.59...|\n",
      "|  11928|[{38088, 87404.98...|\n",
      "|  20982|[{38088, 54546.73...|\n",
      "|  24873|[{38088, 88025.66...|\n",
      "|  26623|[{38088, 64430.14...|\n",
      "|  27556|[{38088, 27831.74...|\n",
      "|  33550|[{38088, 20288.73...|\n",
      "|  35571|[{38088, 55696.55...|\n",
      "|  45394|[{38088, 110587.7...|\n",
      "+-------+--------------------+\n",
      "\n"
     ]
    }
   ],
   "source": [
    "nrecommendations.limit(10).show()"
   ],
   "metadata": {
    "collapsed": false
   }
  },
  {
   "cell_type": "code",
   "execution_count": 36,
   "outputs": [
    {
     "data": {
      "text/plain": "pyspark.sql.dataframe.DataFrame"
     },
     "execution_count": 36,
     "metadata": {},
     "output_type": "execute_result"
    }
   ],
   "source": [
    "type(nrecommendations)"
   ],
   "metadata": {
    "collapsed": false
   }
  },
  {
   "cell_type": "code",
   "execution_count": 37,
   "outputs": [
    {
     "ename": "ConnectionRefusedError",
     "evalue": "[WinError 10061] Подключение не установлено, т.к. конечный компьютер отверг запрос на подключение",
     "output_type": "error",
     "traceback": [
      "\u001B[1;31m---------------------------------------------------------------------------\u001B[0m",
      "\u001B[1;31mConnectionRefusedError\u001B[0m                    Traceback (most recent call last)",
      "Cell \u001B[1;32mIn[37], line 1\u001B[0m\n\u001B[1;32m----> 1\u001B[0m ddf \u001B[38;5;241m=\u001B[39m \u001B[43mnrecommendations\u001B[49m\u001B[38;5;241;43m.\u001B[39;49m\u001B[43mtoPandas\u001B[49m\u001B[43m(\u001B[49m\u001B[43m)\u001B[49m\n",
      "File \u001B[1;32mD:\\Saves\\PycharmProjects\\pythonProject\\venv\\lib\\site-packages\\pyspark\\sql\\pandas\\conversion.py:95\u001B[0m, in \u001B[0;36mPandasConversionMixin.toPandas\u001B[1;34m(self)\u001B[0m\n\u001B[0;32m     92\u001B[0m \u001B[38;5;28;01mimport\u001B[39;00m \u001B[38;5;21;01mpandas\u001B[39;00m \u001B[38;5;28;01mas\u001B[39;00m \u001B[38;5;21;01mpd\u001B[39;00m\n\u001B[0;32m     93\u001B[0m \u001B[38;5;28;01mfrom\u001B[39;00m \u001B[38;5;21;01mpandas\u001B[39;00m\u001B[38;5;21;01m.\u001B[39;00m\u001B[38;5;21;01mcore\u001B[39;00m\u001B[38;5;21;01m.\u001B[39;00m\u001B[38;5;21;01mdtypes\u001B[39;00m\u001B[38;5;21;01m.\u001B[39;00m\u001B[38;5;21;01mcommon\u001B[39;00m \u001B[38;5;28;01mimport\u001B[39;00m is_timedelta64_dtype\n\u001B[1;32m---> 95\u001B[0m jconf \u001B[38;5;241m=\u001B[39m \u001B[38;5;28;43mself\u001B[39;49m\u001B[38;5;241;43m.\u001B[39;49m\u001B[43msparkSession\u001B[49m\u001B[38;5;241;43m.\u001B[39;49m\u001B[43m_jconf\u001B[49m\n\u001B[0;32m     96\u001B[0m timezone \u001B[38;5;241m=\u001B[39m jconf\u001B[38;5;241m.\u001B[39msessionLocalTimeZone()\n\u001B[0;32m     98\u001B[0m \u001B[38;5;28;01mif\u001B[39;00m jconf\u001B[38;5;241m.\u001B[39marrowPySparkEnabled():\n",
      "File \u001B[1;32mD:\\Saves\\PycharmProjects\\pythonProject\\venv\\lib\\site-packages\\pyspark\\sql\\session.py:560\u001B[0m, in \u001B[0;36mSparkSession._jconf\u001B[1;34m(self)\u001B[0m\n\u001B[0;32m    557\u001B[0m \u001B[38;5;129m@property\u001B[39m\n\u001B[0;32m    558\u001B[0m \u001B[38;5;28;01mdef\u001B[39;00m \u001B[38;5;21m_jconf\u001B[39m(\u001B[38;5;28mself\u001B[39m) \u001B[38;5;241m-\u001B[39m\u001B[38;5;241m>\u001B[39m \u001B[38;5;124m\"\u001B[39m\u001B[38;5;124mJavaObject\u001B[39m\u001B[38;5;124m\"\u001B[39m:\n\u001B[0;32m    559\u001B[0m \u001B[38;5;250m    \u001B[39m\u001B[38;5;124;03m\"\"\"Accessor for the JVM SQL-specific configurations\"\"\"\u001B[39;00m\n\u001B[1;32m--> 560\u001B[0m     \u001B[38;5;28;01mreturn\u001B[39;00m \u001B[38;5;28;43mself\u001B[39;49m\u001B[38;5;241;43m.\u001B[39;49m\u001B[43m_jsparkSession\u001B[49m\u001B[38;5;241;43m.\u001B[39;49m\u001B[43msessionState\u001B[49m\u001B[43m(\u001B[49m\u001B[43m)\u001B[49m\u001B[38;5;241m.\u001B[39mconf()\n",
      "File \u001B[1;32mD:\\Saves\\PycharmProjects\\pythonProject\\venv\\lib\\site-packages\\py4j\\java_gateway.py:1321\u001B[0m, in \u001B[0;36mJavaMember.__call__\u001B[1;34m(self, *args)\u001B[0m\n\u001B[0;32m   1314\u001B[0m args_command, temp_args \u001B[38;5;241m=\u001B[39m \u001B[38;5;28mself\u001B[39m\u001B[38;5;241m.\u001B[39m_build_args(\u001B[38;5;241m*\u001B[39margs)\n\u001B[0;32m   1316\u001B[0m command \u001B[38;5;241m=\u001B[39m proto\u001B[38;5;241m.\u001B[39mCALL_COMMAND_NAME \u001B[38;5;241m+\u001B[39m\\\n\u001B[0;32m   1317\u001B[0m     \u001B[38;5;28mself\u001B[39m\u001B[38;5;241m.\u001B[39mcommand_header \u001B[38;5;241m+\u001B[39m\\\n\u001B[0;32m   1318\u001B[0m     args_command \u001B[38;5;241m+\u001B[39m\\\n\u001B[0;32m   1319\u001B[0m     proto\u001B[38;5;241m.\u001B[39mEND_COMMAND_PART\n\u001B[1;32m-> 1321\u001B[0m answer \u001B[38;5;241m=\u001B[39m \u001B[38;5;28;43mself\u001B[39;49m\u001B[38;5;241;43m.\u001B[39;49m\u001B[43mgateway_client\u001B[49m\u001B[38;5;241;43m.\u001B[39;49m\u001B[43msend_command\u001B[49m\u001B[43m(\u001B[49m\u001B[43mcommand\u001B[49m\u001B[43m)\u001B[49m\n\u001B[0;32m   1322\u001B[0m return_value \u001B[38;5;241m=\u001B[39m get_return_value(\n\u001B[0;32m   1323\u001B[0m     answer, \u001B[38;5;28mself\u001B[39m\u001B[38;5;241m.\u001B[39mgateway_client, \u001B[38;5;28mself\u001B[39m\u001B[38;5;241m.\u001B[39mtarget_id, \u001B[38;5;28mself\u001B[39m\u001B[38;5;241m.\u001B[39mname)\n\u001B[0;32m   1325\u001B[0m \u001B[38;5;28;01mfor\u001B[39;00m temp_arg \u001B[38;5;129;01min\u001B[39;00m temp_args:\n",
      "File \u001B[1;32mD:\\Saves\\PycharmProjects\\pythonProject\\venv\\lib\\site-packages\\py4j\\java_gateway.py:1036\u001B[0m, in \u001B[0;36mGatewayClient.send_command\u001B[1;34m(self, command, retry, binary)\u001B[0m\n\u001B[0;32m   1015\u001B[0m \u001B[38;5;28;01mdef\u001B[39;00m \u001B[38;5;21msend_command\u001B[39m(\u001B[38;5;28mself\u001B[39m, command, retry\u001B[38;5;241m=\u001B[39m\u001B[38;5;28;01mTrue\u001B[39;00m, binary\u001B[38;5;241m=\u001B[39m\u001B[38;5;28;01mFalse\u001B[39;00m):\n\u001B[0;32m   1016\u001B[0m \u001B[38;5;250m    \u001B[39m\u001B[38;5;124;03m\"\"\"Sends a command to the JVM. This method is not intended to be\u001B[39;00m\n\u001B[0;32m   1017\u001B[0m \u001B[38;5;124;03m       called directly by Py4J users. It is usually called by\u001B[39;00m\n\u001B[0;32m   1018\u001B[0m \u001B[38;5;124;03m       :class:`JavaMember` instances.\u001B[39;00m\n\u001B[1;32m   (...)\u001B[0m\n\u001B[0;32m   1034\u001B[0m \u001B[38;5;124;03m     if `binary` is `True`.\u001B[39;00m\n\u001B[0;32m   1035\u001B[0m \u001B[38;5;124;03m    \"\"\"\u001B[39;00m\n\u001B[1;32m-> 1036\u001B[0m     connection \u001B[38;5;241m=\u001B[39m \u001B[38;5;28;43mself\u001B[39;49m\u001B[38;5;241;43m.\u001B[39;49m\u001B[43m_get_connection\u001B[49m\u001B[43m(\u001B[49m\u001B[43m)\u001B[49m\n\u001B[0;32m   1037\u001B[0m     \u001B[38;5;28;01mtry\u001B[39;00m:\n\u001B[0;32m   1038\u001B[0m         response \u001B[38;5;241m=\u001B[39m connection\u001B[38;5;241m.\u001B[39msend_command(command)\n",
      "File \u001B[1;32mD:\\Saves\\PycharmProjects\\pythonProject\\venv\\lib\\site-packages\\py4j\\clientserver.py:284\u001B[0m, in \u001B[0;36mJavaClient._get_connection\u001B[1;34m(self)\u001B[0m\n\u001B[0;32m    281\u001B[0m     \u001B[38;5;28;01mpass\u001B[39;00m\n\u001B[0;32m    283\u001B[0m \u001B[38;5;28;01mif\u001B[39;00m connection \u001B[38;5;129;01mis\u001B[39;00m \u001B[38;5;28;01mNone\u001B[39;00m \u001B[38;5;129;01mor\u001B[39;00m connection\u001B[38;5;241m.\u001B[39msocket \u001B[38;5;129;01mis\u001B[39;00m \u001B[38;5;28;01mNone\u001B[39;00m:\n\u001B[1;32m--> 284\u001B[0m     connection \u001B[38;5;241m=\u001B[39m \u001B[38;5;28;43mself\u001B[39;49m\u001B[38;5;241;43m.\u001B[39;49m\u001B[43m_create_new_connection\u001B[49m\u001B[43m(\u001B[49m\u001B[43m)\u001B[49m\n\u001B[0;32m    285\u001B[0m \u001B[38;5;28;01mreturn\u001B[39;00m connection\n",
      "File \u001B[1;32mD:\\Saves\\PycharmProjects\\pythonProject\\venv\\lib\\site-packages\\py4j\\clientserver.py:291\u001B[0m, in \u001B[0;36mJavaClient._create_new_connection\u001B[1;34m(self)\u001B[0m\n\u001B[0;32m    287\u001B[0m \u001B[38;5;28;01mdef\u001B[39;00m \u001B[38;5;21m_create_new_connection\u001B[39m(\u001B[38;5;28mself\u001B[39m):\n\u001B[0;32m    288\u001B[0m     connection \u001B[38;5;241m=\u001B[39m ClientServerConnection(\n\u001B[0;32m    289\u001B[0m         \u001B[38;5;28mself\u001B[39m\u001B[38;5;241m.\u001B[39mjava_parameters, \u001B[38;5;28mself\u001B[39m\u001B[38;5;241m.\u001B[39mpython_parameters,\n\u001B[0;32m    290\u001B[0m         \u001B[38;5;28mself\u001B[39m\u001B[38;5;241m.\u001B[39mgateway_property, \u001B[38;5;28mself\u001B[39m)\n\u001B[1;32m--> 291\u001B[0m     \u001B[43mconnection\u001B[49m\u001B[38;5;241;43m.\u001B[39;49m\u001B[43mconnect_to_java_server\u001B[49m\u001B[43m(\u001B[49m\u001B[43m)\u001B[49m\n\u001B[0;32m    292\u001B[0m     \u001B[38;5;28mself\u001B[39m\u001B[38;5;241m.\u001B[39mset_thread_connection(connection)\n\u001B[0;32m    293\u001B[0m     \u001B[38;5;28;01mreturn\u001B[39;00m connection\n",
      "File \u001B[1;32mD:\\Saves\\PycharmProjects\\pythonProject\\venv\\lib\\site-packages\\py4j\\clientserver.py:438\u001B[0m, in \u001B[0;36mClientServerConnection.connect_to_java_server\u001B[1;34m(self)\u001B[0m\n\u001B[0;32m    435\u001B[0m \u001B[38;5;28;01mif\u001B[39;00m \u001B[38;5;28mself\u001B[39m\u001B[38;5;241m.\u001B[39mssl_context:\n\u001B[0;32m    436\u001B[0m     \u001B[38;5;28mself\u001B[39m\u001B[38;5;241m.\u001B[39msocket \u001B[38;5;241m=\u001B[39m \u001B[38;5;28mself\u001B[39m\u001B[38;5;241m.\u001B[39mssl_context\u001B[38;5;241m.\u001B[39mwrap_socket(\n\u001B[0;32m    437\u001B[0m         \u001B[38;5;28mself\u001B[39m\u001B[38;5;241m.\u001B[39msocket, server_hostname\u001B[38;5;241m=\u001B[39m\u001B[38;5;28mself\u001B[39m\u001B[38;5;241m.\u001B[39mjava_address)\n\u001B[1;32m--> 438\u001B[0m \u001B[38;5;28;43mself\u001B[39;49m\u001B[38;5;241;43m.\u001B[39;49m\u001B[43msocket\u001B[49m\u001B[38;5;241;43m.\u001B[39;49m\u001B[43mconnect\u001B[49m\u001B[43m(\u001B[49m\u001B[43m(\u001B[49m\u001B[38;5;28;43mself\u001B[39;49m\u001B[38;5;241;43m.\u001B[39;49m\u001B[43mjava_address\u001B[49m\u001B[43m,\u001B[49m\u001B[43m \u001B[49m\u001B[38;5;28;43mself\u001B[39;49m\u001B[38;5;241;43m.\u001B[39;49m\u001B[43mjava_port\u001B[49m\u001B[43m)\u001B[49m\u001B[43m)\u001B[49m\n\u001B[0;32m    439\u001B[0m \u001B[38;5;28mself\u001B[39m\u001B[38;5;241m.\u001B[39mstream \u001B[38;5;241m=\u001B[39m \u001B[38;5;28mself\u001B[39m\u001B[38;5;241m.\u001B[39msocket\u001B[38;5;241m.\u001B[39mmakefile(\u001B[38;5;124m\"\u001B[39m\u001B[38;5;124mrb\u001B[39m\u001B[38;5;124m\"\u001B[39m)\n\u001B[0;32m    440\u001B[0m \u001B[38;5;28mself\u001B[39m\u001B[38;5;241m.\u001B[39mis_connected \u001B[38;5;241m=\u001B[39m \u001B[38;5;28;01mTrue\u001B[39;00m\n",
      "\u001B[1;31mConnectionRefusedError\u001B[0m: [WinError 10061] Подключение не установлено, т.к. конечный компьютер отверг запрос на подключение"
     ]
    }
   ],
   "source": [
    "ddf = nrecommendations.toPandas()"
   ],
   "metadata": {
    "collapsed": false
   }
  },
  {
   "cell_type": "code",
   "execution_count": 38,
   "outputs": [
    {
     "ename": "ConnectionRefusedError",
     "evalue": "[WinError 10061] Подключение не установлено, т.к. конечный компьютер отверг запрос на подключение",
     "output_type": "error",
     "traceback": [
      "\u001B[1;31m---------------------------------------------------------------------------\u001B[0m",
      "\u001B[1;31mConnectionRefusedError\u001B[0m                    Traceback (most recent call last)",
      "Cell \u001B[1;32mIn[38], line 1\u001B[0m\n\u001B[1;32m----> 1\u001B[0m \u001B[43mbest_model\u001B[49m\u001B[38;5;241;43m.\u001B[39;49m\u001B[43msave\u001B[49m\u001B[43m(\u001B[49m\u001B[38;5;124;43m'\u001B[39;49m\u001B[38;5;124;43masdasd\u001B[39;49m\u001B[38;5;124;43m'\u001B[39;49m\u001B[43m)\u001B[49m\n",
      "File \u001B[1;32mD:\\Saves\\PycharmProjects\\pythonProject\\venv\\lib\\site-packages\\pyspark\\ml\\util.py:246\u001B[0m, in \u001B[0;36mMLWritable.save\u001B[1;34m(self, path)\u001B[0m\n\u001B[0;32m    244\u001B[0m \u001B[38;5;28;01mdef\u001B[39;00m \u001B[38;5;21msave\u001B[39m(\u001B[38;5;28mself\u001B[39m, path: \u001B[38;5;28mstr\u001B[39m) \u001B[38;5;241m-\u001B[39m\u001B[38;5;241m>\u001B[39m \u001B[38;5;28;01mNone\u001B[39;00m:\n\u001B[0;32m    245\u001B[0m \u001B[38;5;250m    \u001B[39m\u001B[38;5;124;03m\"\"\"Save this ML instance to the given path, a shortcut of 'write().save(path)'.\"\"\"\u001B[39;00m\n\u001B[1;32m--> 246\u001B[0m     \u001B[38;5;28;43mself\u001B[39;49m\u001B[38;5;241;43m.\u001B[39;49m\u001B[43mwrite\u001B[49m\u001B[43m(\u001B[49m\u001B[43m)\u001B[49m\u001B[38;5;241m.\u001B[39msave(path)\n",
      "File \u001B[1;32mD:\\Saves\\PycharmProjects\\pythonProject\\venv\\lib\\site-packages\\pyspark\\ml\\util.py:257\u001B[0m, in \u001B[0;36mJavaMLWritable.write\u001B[1;34m(self)\u001B[0m\n\u001B[0;32m    255\u001B[0m \u001B[38;5;28;01mdef\u001B[39;00m \u001B[38;5;21mwrite\u001B[39m(\u001B[38;5;28mself\u001B[39m) \u001B[38;5;241m-\u001B[39m\u001B[38;5;241m>\u001B[39m JavaMLWriter:\n\u001B[0;32m    256\u001B[0m \u001B[38;5;250m    \u001B[39m\u001B[38;5;124;03m\"\"\"Returns an MLWriter instance for this ML instance.\"\"\"\u001B[39;00m\n\u001B[1;32m--> 257\u001B[0m     \u001B[38;5;28;01mreturn\u001B[39;00m \u001B[43mJavaMLWriter\u001B[49m\u001B[43m(\u001B[49m\u001B[38;5;28;43mself\u001B[39;49m\u001B[43m)\u001B[49m\n",
      "File \u001B[1;32mD:\\Saves\\PycharmProjects\\pythonProject\\venv\\lib\\site-packages\\pyspark\\ml\\util.py:190\u001B[0m, in \u001B[0;36mJavaMLWriter.__init__\u001B[1;34m(self, instance)\u001B[0m\n\u001B[0;32m    188\u001B[0m \u001B[38;5;28;01mdef\u001B[39;00m \u001B[38;5;21m__init__\u001B[39m(\u001B[38;5;28mself\u001B[39m, instance: \u001B[38;5;124m\"\u001B[39m\u001B[38;5;124mJavaMLWritable\u001B[39m\u001B[38;5;124m\"\u001B[39m):\n\u001B[0;32m    189\u001B[0m     \u001B[38;5;28msuper\u001B[39m(JavaMLWriter, \u001B[38;5;28mself\u001B[39m)\u001B[38;5;241m.\u001B[39m\u001B[38;5;21m__init__\u001B[39m()\n\u001B[1;32m--> 190\u001B[0m     _java_obj \u001B[38;5;241m=\u001B[39m \u001B[43minstance\u001B[49m\u001B[38;5;241;43m.\u001B[39;49m\u001B[43m_to_java\u001B[49m\u001B[43m(\u001B[49m\u001B[43m)\u001B[49m  \u001B[38;5;66;03m# type: ignore[attr-defined]\u001B[39;00m\n\u001B[0;32m    191\u001B[0m     \u001B[38;5;28mself\u001B[39m\u001B[38;5;241m.\u001B[39m_jwrite \u001B[38;5;241m=\u001B[39m _java_obj\u001B[38;5;241m.\u001B[39mwrite()\n",
      "File \u001B[1;32mD:\\Saves\\PycharmProjects\\pythonProject\\venv\\lib\\site-packages\\pyspark\\ml\\wrapper.py:267\u001B[0m, in \u001B[0;36mJavaParams._to_java\u001B[1;34m(self)\u001B[0m\n\u001B[0;32m    255\u001B[0m \u001B[38;5;28;01mdef\u001B[39;00m \u001B[38;5;21m_to_java\u001B[39m(\u001B[38;5;28mself\u001B[39m) \u001B[38;5;241m-\u001B[39m\u001B[38;5;241m>\u001B[39m \u001B[38;5;124m\"\u001B[39m\u001B[38;5;124mJavaObject\u001B[39m\u001B[38;5;124m\"\u001B[39m:\n\u001B[0;32m    256\u001B[0m \u001B[38;5;250m    \u001B[39m\u001B[38;5;124;03m\"\"\"\u001B[39;00m\n\u001B[0;32m    257\u001B[0m \u001B[38;5;124;03m    Transfer this instance's Params to the wrapped Java object, and return the Java object.\u001B[39;00m\n\u001B[0;32m    258\u001B[0m \u001B[38;5;124;03m    Used for ML persistence.\u001B[39;00m\n\u001B[1;32m   (...)\u001B[0m\n\u001B[0;32m    265\u001B[0m \u001B[38;5;124;03m        Java object equivalent to this instance.\u001B[39;00m\n\u001B[0;32m    266\u001B[0m \u001B[38;5;124;03m    \"\"\"\u001B[39;00m\n\u001B[1;32m--> 267\u001B[0m     \u001B[38;5;28;43mself\u001B[39;49m\u001B[38;5;241;43m.\u001B[39;49m\u001B[43m_transfer_params_to_java\u001B[49m\u001B[43m(\u001B[49m\u001B[43m)\u001B[49m\n\u001B[0;32m    268\u001B[0m     \u001B[38;5;28;01mreturn\u001B[39;00m \u001B[38;5;28mself\u001B[39m\u001B[38;5;241m.\u001B[39m_java_obj\n",
      "File \u001B[1;32mD:\\Saves\\PycharmProjects\\pythonProject\\venv\\lib\\site-packages\\pyspark\\ml\\wrapper.py:174\u001B[0m, in \u001B[0;36mJavaParams._transfer_params_to_java\u001B[1;34m(self)\u001B[0m\n\u001B[0;32m    172\u001B[0m         \u001B[38;5;28mself\u001B[39m\u001B[38;5;241m.\u001B[39m_java_obj\u001B[38;5;241m.\u001B[39mset(pair)\n\u001B[0;32m    173\u001B[0m     \u001B[38;5;28;01mif\u001B[39;00m \u001B[38;5;28mself\u001B[39m\u001B[38;5;241m.\u001B[39mhasDefault(param):\n\u001B[1;32m--> 174\u001B[0m         pair \u001B[38;5;241m=\u001B[39m \u001B[38;5;28;43mself\u001B[39;49m\u001B[38;5;241;43m.\u001B[39;49m\u001B[43m_make_java_param_pair\u001B[49m\u001B[43m(\u001B[49m\u001B[43mparam\u001B[49m\u001B[43m,\u001B[49m\u001B[43m \u001B[49m\u001B[38;5;28;43mself\u001B[39;49m\u001B[38;5;241;43m.\u001B[39;49m\u001B[43m_defaultParamMap\u001B[49m\u001B[43m[\u001B[49m\u001B[43mparam\u001B[49m\u001B[43m]\u001B[49m\u001B[43m)\u001B[49m\n\u001B[0;32m    175\u001B[0m         pair_defaults\u001B[38;5;241m.\u001B[39mappend(pair)\n\u001B[0;32m    176\u001B[0m \u001B[38;5;28;01mif\u001B[39;00m \u001B[38;5;28mlen\u001B[39m(pair_defaults) \u001B[38;5;241m>\u001B[39m \u001B[38;5;241m0\u001B[39m:\n",
      "File \u001B[1;32mD:\\Saves\\PycharmProjects\\pythonProject\\venv\\lib\\site-packages\\pyspark\\ml\\wrapper.py:158\u001B[0m, in \u001B[0;36mJavaParams._make_java_param_pair\u001B[1;34m(self, param, value)\u001B[0m\n\u001B[0;32m    155\u001B[0m \u001B[38;5;28;01massert\u001B[39;00m sc \u001B[38;5;129;01mis\u001B[39;00m \u001B[38;5;129;01mnot\u001B[39;00m \u001B[38;5;28;01mNone\u001B[39;00m \u001B[38;5;129;01mand\u001B[39;00m \u001B[38;5;28mself\u001B[39m\u001B[38;5;241m.\u001B[39m_java_obj \u001B[38;5;129;01mis\u001B[39;00m \u001B[38;5;129;01mnot\u001B[39;00m \u001B[38;5;28;01mNone\u001B[39;00m\n\u001B[0;32m    157\u001B[0m param \u001B[38;5;241m=\u001B[39m \u001B[38;5;28mself\u001B[39m\u001B[38;5;241m.\u001B[39m_resolveParam(param)\n\u001B[1;32m--> 158\u001B[0m java_param \u001B[38;5;241m=\u001B[39m \u001B[38;5;28;43mself\u001B[39;49m\u001B[38;5;241;43m.\u001B[39;49m\u001B[43m_java_obj\u001B[49m\u001B[38;5;241;43m.\u001B[39;49m\u001B[43mgetParam\u001B[49m\u001B[43m(\u001B[49m\u001B[43mparam\u001B[49m\u001B[38;5;241;43m.\u001B[39;49m\u001B[43mname\u001B[49m\u001B[43m)\u001B[49m\n\u001B[0;32m    159\u001B[0m java_value \u001B[38;5;241m=\u001B[39m _py2java(sc, value)\n\u001B[0;32m    160\u001B[0m \u001B[38;5;28;01mreturn\u001B[39;00m java_param\u001B[38;5;241m.\u001B[39mw(java_value)\n",
      "File \u001B[1;32mD:\\Saves\\PycharmProjects\\pythonProject\\venv\\lib\\site-packages\\py4j\\java_gateway.py:1321\u001B[0m, in \u001B[0;36mJavaMember.__call__\u001B[1;34m(self, *args)\u001B[0m\n\u001B[0;32m   1314\u001B[0m args_command, temp_args \u001B[38;5;241m=\u001B[39m \u001B[38;5;28mself\u001B[39m\u001B[38;5;241m.\u001B[39m_build_args(\u001B[38;5;241m*\u001B[39margs)\n\u001B[0;32m   1316\u001B[0m command \u001B[38;5;241m=\u001B[39m proto\u001B[38;5;241m.\u001B[39mCALL_COMMAND_NAME \u001B[38;5;241m+\u001B[39m\\\n\u001B[0;32m   1317\u001B[0m     \u001B[38;5;28mself\u001B[39m\u001B[38;5;241m.\u001B[39mcommand_header \u001B[38;5;241m+\u001B[39m\\\n\u001B[0;32m   1318\u001B[0m     args_command \u001B[38;5;241m+\u001B[39m\\\n\u001B[0;32m   1319\u001B[0m     proto\u001B[38;5;241m.\u001B[39mEND_COMMAND_PART\n\u001B[1;32m-> 1321\u001B[0m answer \u001B[38;5;241m=\u001B[39m \u001B[38;5;28;43mself\u001B[39;49m\u001B[38;5;241;43m.\u001B[39;49m\u001B[43mgateway_client\u001B[49m\u001B[38;5;241;43m.\u001B[39;49m\u001B[43msend_command\u001B[49m\u001B[43m(\u001B[49m\u001B[43mcommand\u001B[49m\u001B[43m)\u001B[49m\n\u001B[0;32m   1322\u001B[0m return_value \u001B[38;5;241m=\u001B[39m get_return_value(\n\u001B[0;32m   1323\u001B[0m     answer, \u001B[38;5;28mself\u001B[39m\u001B[38;5;241m.\u001B[39mgateway_client, \u001B[38;5;28mself\u001B[39m\u001B[38;5;241m.\u001B[39mtarget_id, \u001B[38;5;28mself\u001B[39m\u001B[38;5;241m.\u001B[39mname)\n\u001B[0;32m   1325\u001B[0m \u001B[38;5;28;01mfor\u001B[39;00m temp_arg \u001B[38;5;129;01min\u001B[39;00m temp_args:\n",
      "File \u001B[1;32mD:\\Saves\\PycharmProjects\\pythonProject\\venv\\lib\\site-packages\\py4j\\java_gateway.py:1036\u001B[0m, in \u001B[0;36mGatewayClient.send_command\u001B[1;34m(self, command, retry, binary)\u001B[0m\n\u001B[0;32m   1015\u001B[0m \u001B[38;5;28;01mdef\u001B[39;00m \u001B[38;5;21msend_command\u001B[39m(\u001B[38;5;28mself\u001B[39m, command, retry\u001B[38;5;241m=\u001B[39m\u001B[38;5;28;01mTrue\u001B[39;00m, binary\u001B[38;5;241m=\u001B[39m\u001B[38;5;28;01mFalse\u001B[39;00m):\n\u001B[0;32m   1016\u001B[0m \u001B[38;5;250m    \u001B[39m\u001B[38;5;124;03m\"\"\"Sends a command to the JVM. This method is not intended to be\u001B[39;00m\n\u001B[0;32m   1017\u001B[0m \u001B[38;5;124;03m       called directly by Py4J users. It is usually called by\u001B[39;00m\n\u001B[0;32m   1018\u001B[0m \u001B[38;5;124;03m       :class:`JavaMember` instances.\u001B[39;00m\n\u001B[1;32m   (...)\u001B[0m\n\u001B[0;32m   1034\u001B[0m \u001B[38;5;124;03m     if `binary` is `True`.\u001B[39;00m\n\u001B[0;32m   1035\u001B[0m \u001B[38;5;124;03m    \"\"\"\u001B[39;00m\n\u001B[1;32m-> 1036\u001B[0m     connection \u001B[38;5;241m=\u001B[39m \u001B[38;5;28;43mself\u001B[39;49m\u001B[38;5;241;43m.\u001B[39;49m\u001B[43m_get_connection\u001B[49m\u001B[43m(\u001B[49m\u001B[43m)\u001B[49m\n\u001B[0;32m   1037\u001B[0m     \u001B[38;5;28;01mtry\u001B[39;00m:\n\u001B[0;32m   1038\u001B[0m         response \u001B[38;5;241m=\u001B[39m connection\u001B[38;5;241m.\u001B[39msend_command(command)\n",
      "File \u001B[1;32mD:\\Saves\\PycharmProjects\\pythonProject\\venv\\lib\\site-packages\\py4j\\clientserver.py:284\u001B[0m, in \u001B[0;36mJavaClient._get_connection\u001B[1;34m(self)\u001B[0m\n\u001B[0;32m    281\u001B[0m     \u001B[38;5;28;01mpass\u001B[39;00m\n\u001B[0;32m    283\u001B[0m \u001B[38;5;28;01mif\u001B[39;00m connection \u001B[38;5;129;01mis\u001B[39;00m \u001B[38;5;28;01mNone\u001B[39;00m \u001B[38;5;129;01mor\u001B[39;00m connection\u001B[38;5;241m.\u001B[39msocket \u001B[38;5;129;01mis\u001B[39;00m \u001B[38;5;28;01mNone\u001B[39;00m:\n\u001B[1;32m--> 284\u001B[0m     connection \u001B[38;5;241m=\u001B[39m \u001B[38;5;28;43mself\u001B[39;49m\u001B[38;5;241;43m.\u001B[39;49m\u001B[43m_create_new_connection\u001B[49m\u001B[43m(\u001B[49m\u001B[43m)\u001B[49m\n\u001B[0;32m    285\u001B[0m \u001B[38;5;28;01mreturn\u001B[39;00m connection\n",
      "File \u001B[1;32mD:\\Saves\\PycharmProjects\\pythonProject\\venv\\lib\\site-packages\\py4j\\clientserver.py:291\u001B[0m, in \u001B[0;36mJavaClient._create_new_connection\u001B[1;34m(self)\u001B[0m\n\u001B[0;32m    287\u001B[0m \u001B[38;5;28;01mdef\u001B[39;00m \u001B[38;5;21m_create_new_connection\u001B[39m(\u001B[38;5;28mself\u001B[39m):\n\u001B[0;32m    288\u001B[0m     connection \u001B[38;5;241m=\u001B[39m ClientServerConnection(\n\u001B[0;32m    289\u001B[0m         \u001B[38;5;28mself\u001B[39m\u001B[38;5;241m.\u001B[39mjava_parameters, \u001B[38;5;28mself\u001B[39m\u001B[38;5;241m.\u001B[39mpython_parameters,\n\u001B[0;32m    290\u001B[0m         \u001B[38;5;28mself\u001B[39m\u001B[38;5;241m.\u001B[39mgateway_property, \u001B[38;5;28mself\u001B[39m)\n\u001B[1;32m--> 291\u001B[0m     \u001B[43mconnection\u001B[49m\u001B[38;5;241;43m.\u001B[39;49m\u001B[43mconnect_to_java_server\u001B[49m\u001B[43m(\u001B[49m\u001B[43m)\u001B[49m\n\u001B[0;32m    292\u001B[0m     \u001B[38;5;28mself\u001B[39m\u001B[38;5;241m.\u001B[39mset_thread_connection(connection)\n\u001B[0;32m    293\u001B[0m     \u001B[38;5;28;01mreturn\u001B[39;00m connection\n",
      "File \u001B[1;32mD:\\Saves\\PycharmProjects\\pythonProject\\venv\\lib\\site-packages\\py4j\\clientserver.py:438\u001B[0m, in \u001B[0;36mClientServerConnection.connect_to_java_server\u001B[1;34m(self)\u001B[0m\n\u001B[0;32m    435\u001B[0m \u001B[38;5;28;01mif\u001B[39;00m \u001B[38;5;28mself\u001B[39m\u001B[38;5;241m.\u001B[39mssl_context:\n\u001B[0;32m    436\u001B[0m     \u001B[38;5;28mself\u001B[39m\u001B[38;5;241m.\u001B[39msocket \u001B[38;5;241m=\u001B[39m \u001B[38;5;28mself\u001B[39m\u001B[38;5;241m.\u001B[39mssl_context\u001B[38;5;241m.\u001B[39mwrap_socket(\n\u001B[0;32m    437\u001B[0m         \u001B[38;5;28mself\u001B[39m\u001B[38;5;241m.\u001B[39msocket, server_hostname\u001B[38;5;241m=\u001B[39m\u001B[38;5;28mself\u001B[39m\u001B[38;5;241m.\u001B[39mjava_address)\n\u001B[1;32m--> 438\u001B[0m \u001B[38;5;28;43mself\u001B[39;49m\u001B[38;5;241;43m.\u001B[39;49m\u001B[43msocket\u001B[49m\u001B[38;5;241;43m.\u001B[39;49m\u001B[43mconnect\u001B[49m\u001B[43m(\u001B[49m\u001B[43m(\u001B[49m\u001B[38;5;28;43mself\u001B[39;49m\u001B[38;5;241;43m.\u001B[39;49m\u001B[43mjava_address\u001B[49m\u001B[43m,\u001B[49m\u001B[43m \u001B[49m\u001B[38;5;28;43mself\u001B[39;49m\u001B[38;5;241;43m.\u001B[39;49m\u001B[43mjava_port\u001B[49m\u001B[43m)\u001B[49m\u001B[43m)\u001B[49m\n\u001B[0;32m    439\u001B[0m \u001B[38;5;28mself\u001B[39m\u001B[38;5;241m.\u001B[39mstream \u001B[38;5;241m=\u001B[39m \u001B[38;5;28mself\u001B[39m\u001B[38;5;241m.\u001B[39msocket\u001B[38;5;241m.\u001B[39mmakefile(\u001B[38;5;124m\"\u001B[39m\u001B[38;5;124mrb\u001B[39m\u001B[38;5;124m\"\u001B[39m)\n\u001B[0;32m    440\u001B[0m \u001B[38;5;28mself\u001B[39m\u001B[38;5;241m.\u001B[39mis_connected \u001B[38;5;241m=\u001B[39m \u001B[38;5;28;01mTrue\u001B[39;00m\n",
      "\u001B[1;31mConnectionRefusedError\u001B[0m: [WinError 10061] Подключение не установлено, т.к. конечный компьютер отверг запрос на подключение"
     ]
    }
   ],
   "source": [
    "best_model.save('asdasd')"
   ],
   "metadata": {
    "collapsed": false
   }
  },
  {
   "cell_type": "code",
   "execution_count": null,
   "outputs": [],
   "source": [],
   "metadata": {
    "collapsed": false
   }
  }
 ],
 "metadata": {
  "kernelspec": {
   "display_name": "Python 3",
   "language": "python",
   "name": "python3"
  },
  "language_info": {
   "codemirror_mode": {
    "name": "ipython",
    "version": 2
   },
   "file_extension": ".py",
   "mimetype": "text/x-python",
   "name": "python",
   "nbconvert_exporter": "python",
   "pygments_lexer": "ipython2",
   "version": "2.7.6"
  }
 },
 "nbformat": 4,
 "nbformat_minor": 0
}
