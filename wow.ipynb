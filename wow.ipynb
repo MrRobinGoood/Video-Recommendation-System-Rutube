{
 "cells": [
  {
   "cell_type": "code",
   "execution_count": 1,
   "outputs": [],
   "source": [
    "from threading import local\n",
    "\n",
    "\n",
    "def str_list_to_list_int(x):\n",
    "    res = x.strip('][').split(', ')\n",
    "    res = [int(i) for i in res]\n",
    "    return res"
   ],
   "metadata": {
    "collapsed": false
   }
  },
  {
   "cell_type": "code",
   "execution_count": 2,
   "outputs": [],
   "source": [
    "def str_list_to_list(x):\n",
    "    res = x.strip('][').split(', ')\n",
    "    return res"
   ],
   "metadata": {
    "collapsed": false
   }
  },
  {
   "cell_type": "code",
   "execution_count": 3,
   "outputs": [],
   "source": [
    "def duration_to_second(x):\n",
    "    x = str_list_to_list_int(x)\n",
    "    lst = []\n",
    "    for i in x:\n",
    "        lst.append(i / 1000)\n",
    "    return lst"
   ],
   "metadata": {
    "collapsed": false
   }
  },
  {
   "cell_type": "code",
   "execution_count": 4,
   "outputs": [],
   "source": [
    "import pandas as pd\n",
    "train_df = pd.read_csv(\"train\")"
   ],
   "metadata": {
    "collapsed": false
   }
  },
  {
   "cell_type": "code",
   "execution_count": 81,
   "outputs": [],
   "source": [
    "#test\n",
    "# import pandas as pd\n",
    "# test_df = pd.read_parquet(\"test.parquet\")\n",
    "#\n",
    "# test_df['item_id'] = test_df['item_id'].apply(str_list_to_list)"
   ],
   "metadata": {
    "collapsed": false
   }
  },
  {
   "cell_type": "code",
   "execution_count": 83,
   "outputs": [
    {
     "ename": "KeyboardInterrupt",
     "evalue": "",
     "output_type": "error",
     "traceback": [
      "\u001B[1;31m---------------------------------------------------------------------------\u001B[0m",
      "\u001B[1;31mKeyboardInterrupt\u001B[0m                         Traceback (most recent call last)",
      "Cell \u001B[1;32mIn[83], line 1\u001B[0m\n\u001B[1;32m----> 1\u001B[0m \u001B[38;5;28;01mfor\u001B[39;00m i, row \u001B[38;5;129;01min\u001B[39;00m test_df\u001B[38;5;241m.\u001B[39miterrows():\n\u001B[0;32m      2\u001B[0m     row\u001B[38;5;241m.\u001B[39mvalues[\u001B[38;5;241m1\u001B[39m] \u001B[38;5;241m=\u001B[39m row\u001B[38;5;241m.\u001B[39mvalues[\u001B[38;5;241m1\u001B[39m][\u001B[38;5;241m0\u001B[39m]\n",
      "File \u001B[1;32mD:\\Saves\\PycharmProjects\\pythonProject\\venv\\lib\\site-packages\\pandas\\core\\frame.py:1400\u001B[0m, in \u001B[0;36mDataFrame.iterrows\u001B[1;34m(self)\u001B[0m\n\u001B[0;32m   1398\u001B[0m using_cow \u001B[38;5;241m=\u001B[39m using_copy_on_write()\n\u001B[0;32m   1399\u001B[0m \u001B[38;5;28;01mfor\u001B[39;00m k, v \u001B[38;5;129;01min\u001B[39;00m \u001B[38;5;28mzip\u001B[39m(\u001B[38;5;28mself\u001B[39m\u001B[38;5;241m.\u001B[39mindex, \u001B[38;5;28mself\u001B[39m\u001B[38;5;241m.\u001B[39mvalues):\n\u001B[1;32m-> 1400\u001B[0m     s \u001B[38;5;241m=\u001B[39m \u001B[43mklass\u001B[49m\u001B[43m(\u001B[49m\u001B[43mv\u001B[49m\u001B[43m,\u001B[49m\u001B[43m \u001B[49m\u001B[43mindex\u001B[49m\u001B[38;5;241;43m=\u001B[39;49m\u001B[43mcolumns\u001B[49m\u001B[43m,\u001B[49m\u001B[43m \u001B[49m\u001B[43mname\u001B[49m\u001B[38;5;241;43m=\u001B[39;49m\u001B[43mk\u001B[49m\u001B[43m)\u001B[49m\u001B[38;5;241m.\u001B[39m__finalize__(\u001B[38;5;28mself\u001B[39m)\n\u001B[0;32m   1401\u001B[0m     \u001B[38;5;28;01mif\u001B[39;00m using_cow \u001B[38;5;129;01mand\u001B[39;00m \u001B[38;5;28mself\u001B[39m\u001B[38;5;241m.\u001B[39m_mgr\u001B[38;5;241m.\u001B[39mis_single_block:\n\u001B[0;32m   1402\u001B[0m         s\u001B[38;5;241m.\u001B[39m_mgr\u001B[38;5;241m.\u001B[39madd_references(\u001B[38;5;28mself\u001B[39m\u001B[38;5;241m.\u001B[39m_mgr)  \u001B[38;5;66;03m# type: ignore[arg-type]\u001B[39;00m\n",
      "File \u001B[1;32mD:\\Saves\\PycharmProjects\\pythonProject\\venv\\lib\\site-packages\\pandas\\core\\series.py:509\u001B[0m, in \u001B[0;36mSeries.__init__\u001B[1;34m(self, data, index, dtype, name, copy, fastpath)\u001B[0m\n\u001B[0;32m    507\u001B[0m         data \u001B[38;5;241m=\u001B[39m data\u001B[38;5;241m.\u001B[39mcopy()\n\u001B[0;32m    508\u001B[0m \u001B[38;5;28;01melse\u001B[39;00m:\n\u001B[1;32m--> 509\u001B[0m     data \u001B[38;5;241m=\u001B[39m \u001B[43msanitize_array\u001B[49m\u001B[43m(\u001B[49m\u001B[43mdata\u001B[49m\u001B[43m,\u001B[49m\u001B[43m \u001B[49m\u001B[43mindex\u001B[49m\u001B[43m,\u001B[49m\u001B[43m \u001B[49m\u001B[43mdtype\u001B[49m\u001B[43m,\u001B[49m\u001B[43m \u001B[49m\u001B[43mcopy\u001B[49m\u001B[43m)\u001B[49m\n\u001B[0;32m    511\u001B[0m     manager \u001B[38;5;241m=\u001B[39m get_option(\u001B[38;5;124m\"\u001B[39m\u001B[38;5;124mmode.data_manager\u001B[39m\u001B[38;5;124m\"\u001B[39m)\n\u001B[0;32m    512\u001B[0m     \u001B[38;5;28;01mif\u001B[39;00m manager \u001B[38;5;241m==\u001B[39m \u001B[38;5;124m\"\u001B[39m\u001B[38;5;124mblock\u001B[39m\u001B[38;5;124m\"\u001B[39m:\n",
      "File \u001B[1;32mD:\\Saves\\PycharmProjects\\pythonProject\\venv\\lib\\site-packages\\pandas\\core\\construction.py:569\u001B[0m, in \u001B[0;36msanitize_array\u001B[1;34m(data, index, dtype, copy, allow_2d)\u001B[0m\n\u001B[0;32m    567\u001B[0m subarr \u001B[38;5;241m=\u001B[39m data\n\u001B[0;32m    568\u001B[0m \u001B[38;5;28;01mif\u001B[39;00m data\u001B[38;5;241m.\u001B[39mdtype \u001B[38;5;241m==\u001B[39m \u001B[38;5;28mobject\u001B[39m:\n\u001B[1;32m--> 569\u001B[0m     subarr \u001B[38;5;241m=\u001B[39m \u001B[43mmaybe_infer_to_datetimelike\u001B[49m\u001B[43m(\u001B[49m\u001B[43mdata\u001B[49m\u001B[43m)\u001B[49m\n\u001B[0;32m    571\u001B[0m \u001B[38;5;28;01mif\u001B[39;00m subarr \u001B[38;5;129;01mis\u001B[39;00m data \u001B[38;5;129;01mand\u001B[39;00m copy:\n\u001B[0;32m    572\u001B[0m     subarr \u001B[38;5;241m=\u001B[39m subarr\u001B[38;5;241m.\u001B[39mcopy()\n",
      "File \u001B[1;32mD:\\Saves\\PycharmProjects\\pythonProject\\venv\\lib\\site-packages\\pandas\\core\\dtypes\\cast.py:1204\u001B[0m, in \u001B[0;36mmaybe_infer_to_datetimelike\u001B[1;34m(value)\u001B[0m\n\u001B[0;32m   1199\u001B[0m     \u001B[38;5;28;01mreturn\u001B[39;00m value\n\u001B[0;32m   1201\u001B[0m \u001B[38;5;66;03m# error: Incompatible return value type (got \"Union[ExtensionArray,\u001B[39;00m\n\u001B[0;32m   1202\u001B[0m \u001B[38;5;66;03m# ndarray[Any, Any]]\", expected \"Union[ndarray[Any, Any], DatetimeArray,\u001B[39;00m\n\u001B[0;32m   1203\u001B[0m \u001B[38;5;66;03m# TimedeltaArray, PeriodArray, IntervalArray]\")\u001B[39;00m\n\u001B[1;32m-> 1204\u001B[0m \u001B[38;5;28;01mreturn\u001B[39;00m \u001B[43mlib\u001B[49m\u001B[38;5;241;43m.\u001B[39;49m\u001B[43mmaybe_convert_objects\u001B[49m\u001B[43m(\u001B[49m\u001B[43m  \u001B[49m\u001B[38;5;66;43;03m# type: ignore[return-value]\u001B[39;49;00m\n\u001B[0;32m   1205\u001B[0m \u001B[43m    \u001B[49m\u001B[43mvalue\u001B[49m\u001B[43m,\u001B[49m\n\u001B[0;32m   1206\u001B[0m \u001B[43m    \u001B[49m\u001B[38;5;66;43;03m# Here we do not convert numeric dtypes, as if we wanted that,\u001B[39;49;00m\n\u001B[0;32m   1207\u001B[0m \u001B[43m    \u001B[49m\u001B[38;5;66;43;03m#  numpy would have done it for us.\u001B[39;49;00m\n\u001B[0;32m   1208\u001B[0m \u001B[43m    \u001B[49m\u001B[43mconvert_numeric\u001B[49m\u001B[38;5;241;43m=\u001B[39;49m\u001B[38;5;28;43;01mFalse\u001B[39;49;00m\u001B[43m,\u001B[49m\n\u001B[0;32m   1209\u001B[0m \u001B[43m    \u001B[49m\u001B[43mconvert_period\u001B[49m\u001B[38;5;241;43m=\u001B[39;49m\u001B[38;5;28;43;01mTrue\u001B[39;49;00m\u001B[43m,\u001B[49m\n\u001B[0;32m   1210\u001B[0m \u001B[43m    \u001B[49m\u001B[43mconvert_interval\u001B[49m\u001B[38;5;241;43m=\u001B[39;49m\u001B[38;5;28;43;01mTrue\u001B[39;49;00m\u001B[43m,\u001B[49m\n\u001B[0;32m   1211\u001B[0m \u001B[43m    \u001B[49m\u001B[43mconvert_timedelta\u001B[49m\u001B[38;5;241;43m=\u001B[39;49m\u001B[38;5;28;43;01mTrue\u001B[39;49;00m\u001B[43m,\u001B[49m\n\u001B[0;32m   1212\u001B[0m \u001B[43m    \u001B[49m\u001B[43mconvert_datetime\u001B[49m\u001B[38;5;241;43m=\u001B[39;49m\u001B[38;5;28;43;01mTrue\u001B[39;49;00m\u001B[43m,\u001B[49m\n\u001B[0;32m   1213\u001B[0m \u001B[43m    \u001B[49m\u001B[43mdtype_if_all_nat\u001B[49m\u001B[38;5;241;43m=\u001B[39;49m\u001B[43mnp\u001B[49m\u001B[38;5;241;43m.\u001B[39;49m\u001B[43mdtype\u001B[49m\u001B[43m(\u001B[49m\u001B[38;5;124;43m\"\u001B[39;49m\u001B[38;5;124;43mM8[ns]\u001B[39;49m\u001B[38;5;124;43m\"\u001B[39;49m\u001B[43m)\u001B[49m\u001B[43m,\u001B[49m\n\u001B[0;32m   1214\u001B[0m \u001B[43m\u001B[49m\u001B[43m)\u001B[49m\n",
      "File \u001B[1;32mD:\\Saves\\PycharmProjects\\pythonProject\\venv\\lib\\site-packages\\pandas\\_libs\\lib.pyx:2445\u001B[0m, in \u001B[0;36mpandas._libs.lib.maybe_convert_objects\u001B[1;34m()\u001B[0m\n",
      "File \u001B[1;32mD:\\Saves\\PycharmProjects\\pythonProject\\venv\\lib\\site-packages\\numpy\\core\\numeric.py:342\u001B[0m, in \u001B[0;36mfull\u001B[1;34m(shape, fill_value, dtype, order, like)\u001B[0m\n\u001B[0;32m    339\u001B[0m     \u001B[38;5;28;01mreturn\u001B[39;00m _full_with_like(shape, fill_value, dtype\u001B[38;5;241m=\u001B[39mdtype, order\u001B[38;5;241m=\u001B[39morder, like\u001B[38;5;241m=\u001B[39mlike)\n\u001B[0;32m    341\u001B[0m \u001B[38;5;28;01mif\u001B[39;00m dtype \u001B[38;5;129;01mis\u001B[39;00m \u001B[38;5;28;01mNone\u001B[39;00m:\n\u001B[1;32m--> 342\u001B[0m     fill_value \u001B[38;5;241m=\u001B[39m \u001B[43masarray\u001B[49m(fill_value)\n\u001B[0;32m    343\u001B[0m     dtype \u001B[38;5;241m=\u001B[39m fill_value\u001B[38;5;241m.\u001B[39mdtype\n\u001B[0;32m    344\u001B[0m a \u001B[38;5;241m=\u001B[39m empty(shape, dtype, order)\n",
      "\u001B[1;31mKeyboardInterrupt\u001B[0m: "
     ]
    }
   ],
   "source": [
    "# for i, row in test_df.iterrows():\n",
    "#     row.values[1] = row.values[1][0]\n"
   ],
   "metadata": {
    "collapsed": false
   }
  },
  {
   "cell_type": "code",
   "execution_count": 5,
   "outputs": [],
   "source": [
    "train_df['watch_time'] = train_df['watch_time'].apply(str_list_to_list_int)"
   ],
   "metadata": {
    "collapsed": false
   }
  },
  {
   "cell_type": "code",
   "execution_count": 6,
   "outputs": [],
   "source": [
    "train_df['item_id'] = train_df['item_id'].apply(str_list_to_list)"
   ],
   "metadata": {
    "collapsed": false
   }
  },
  {
   "cell_type": "code",
   "execution_count": 7,
   "outputs": [],
   "source": [
    "train_df['duration'] = train_df['duration'].apply(duration_to_second)"
   ],
   "metadata": {
    "collapsed": false
   }
  },
  {
   "cell_type": "code",
   "execution_count": 8,
   "outputs": [],
   "source": [
    "def calc_rait(row):\n",
    "    lst = []\n",
    "    for i in range(len(row.watch_time)):\n",
    "        lst.append(round(row.watch_time[i] / (row.duration[i] + 0.001), 3))\n",
    "    return lst"
   ],
   "metadata": {
    "collapsed": false
   }
  },
  {
   "cell_type": "code",
   "execution_count": 9,
   "outputs": [
    {
     "data": {
      "text/plain": "              user_id                                            item_id  \\\n0       user_10000000                                  ['video_1487101']   \n1       user_10000099                                   ['video_856096']   \n2        user_1000020                                   ['video_547304']   \n3       user_10000345  ['video_1393364', 'video_2084529', 'video_4947...   \n4       user_10000388                                   ['video_283933']   \n...               ...                                                ...   \n140104   user_9998487                                  ['video_1893827']   \n140105   user_9998803                                   ['video_984416']   \n140106   user_9999389                                  ['video_1250322']   \n140107   user_9999509                                  ['video_1409879']   \n140108   user_9999659                                    ['video_61502']   \n\n                            watch_time  \\\n0                               [2310]   \n1                                [172]   \n2                                [902]   \n3       [359, 399, 244, 458, 247, 653]   \n4                               [1823]   \n...                                ...   \n140104                          [1589]   \n140105                          [1990]   \n140106                          [2421]   \n140107                          [3583]   \n140108                           [121]   \n\n                                                 duration  \\\n0                                               [5377.48]   \n1                                                [176.36]   \n2                                                [2941.0]   \n3       [373.889, 450.731, 273.409, 498.369, 303.723, ...   \n4                                               [5616.28]   \n...                                                   ...   \n140104                                           [4276.8]   \n140105                                          [6365.68]   \n140106                                         [2437.203]   \n140107                                         [4362.658]   \n140108                                            [124.9]   \n\n                                          raiting  \n0                                          [0.43]  \n1                                         [0.975]  \n2                                         [0.307]  \n3       [0.96, 0.885, 0.892, 0.919, 0.813, 0.994]  \n4                                         [0.325]  \n...                                           ...  \n140104                                    [0.372]  \n140105                                    [0.313]  \n140106                                    [0.993]  \n140107                                    [0.821]  \n140108                                    [0.969]  \n\n[140109 rows x 5 columns]",
      "text/html": "<div>\n<style scoped>\n    .dataframe tbody tr th:only-of-type {\n        vertical-align: middle;\n    }\n\n    .dataframe tbody tr th {\n        vertical-align: top;\n    }\n\n    .dataframe thead th {\n        text-align: right;\n    }\n</style>\n<table border=\"1\" class=\"dataframe\">\n  <thead>\n    <tr style=\"text-align: right;\">\n      <th></th>\n      <th>user_id</th>\n      <th>item_id</th>\n      <th>watch_time</th>\n      <th>duration</th>\n      <th>raiting</th>\n    </tr>\n  </thead>\n  <tbody>\n    <tr>\n      <th>0</th>\n      <td>user_10000000</td>\n      <td>['video_1487101']</td>\n      <td>[2310]</td>\n      <td>[5377.48]</td>\n      <td>[0.43]</td>\n    </tr>\n    <tr>\n      <th>1</th>\n      <td>user_10000099</td>\n      <td>['video_856096']</td>\n      <td>[172]</td>\n      <td>[176.36]</td>\n      <td>[0.975]</td>\n    </tr>\n    <tr>\n      <th>2</th>\n      <td>user_1000020</td>\n      <td>['video_547304']</td>\n      <td>[902]</td>\n      <td>[2941.0]</td>\n      <td>[0.307]</td>\n    </tr>\n    <tr>\n      <th>3</th>\n      <td>user_10000345</td>\n      <td>['video_1393364', 'video_2084529', 'video_4947...</td>\n      <td>[359, 399, 244, 458, 247, 653]</td>\n      <td>[373.889, 450.731, 273.409, 498.369, 303.723, ...</td>\n      <td>[0.96, 0.885, 0.892, 0.919, 0.813, 0.994]</td>\n    </tr>\n    <tr>\n      <th>4</th>\n      <td>user_10000388</td>\n      <td>['video_283933']</td>\n      <td>[1823]</td>\n      <td>[5616.28]</td>\n      <td>[0.325]</td>\n    </tr>\n    <tr>\n      <th>...</th>\n      <td>...</td>\n      <td>...</td>\n      <td>...</td>\n      <td>...</td>\n      <td>...</td>\n    </tr>\n    <tr>\n      <th>140104</th>\n      <td>user_9998487</td>\n      <td>['video_1893827']</td>\n      <td>[1589]</td>\n      <td>[4276.8]</td>\n      <td>[0.372]</td>\n    </tr>\n    <tr>\n      <th>140105</th>\n      <td>user_9998803</td>\n      <td>['video_984416']</td>\n      <td>[1990]</td>\n      <td>[6365.68]</td>\n      <td>[0.313]</td>\n    </tr>\n    <tr>\n      <th>140106</th>\n      <td>user_9999389</td>\n      <td>['video_1250322']</td>\n      <td>[2421]</td>\n      <td>[2437.203]</td>\n      <td>[0.993]</td>\n    </tr>\n    <tr>\n      <th>140107</th>\n      <td>user_9999509</td>\n      <td>['video_1409879']</td>\n      <td>[3583]</td>\n      <td>[4362.658]</td>\n      <td>[0.821]</td>\n    </tr>\n    <tr>\n      <th>140108</th>\n      <td>user_9999659</td>\n      <td>['video_61502']</td>\n      <td>[121]</td>\n      <td>[124.9]</td>\n      <td>[0.969]</td>\n    </tr>\n  </tbody>\n</table>\n<p>140109 rows × 5 columns</p>\n</div>"
     },
     "execution_count": 9,
     "metadata": {},
     "output_type": "execute_result"
    }
   ],
   "source": [
    "train_df['raiting'] = train_df.apply(lambda row: calc_rait(row), axis=1)\n",
    "train_df"
   ],
   "metadata": {
    "collapsed": false
   }
  },
  {
   "cell_type": "code",
   "execution_count": 10,
   "outputs": [
    {
     "data": {
      "text/plain": "              user_id                                            item_id  \\\n0       user_10000000                                  ['video_1487101']   \n1       user_10000099                                   ['video_856096']   \n2        user_1000020                                   ['video_547304']   \n3       user_10000345  ['video_1393364', 'video_2084529', 'video_4947...   \n4       user_10000388                                   ['video_283933']   \n...               ...                                                ...   \n140104   user_9998487                                  ['video_1893827']   \n140105   user_9998803                                   ['video_984416']   \n140106   user_9999389                                  ['video_1250322']   \n140107   user_9999509                                  ['video_1409879']   \n140108   user_9999659                                    ['video_61502']   \n\n                                          raiting  \n0                                          [0.43]  \n1                                         [0.975]  \n2                                         [0.307]  \n3       [0.96, 0.885, 0.892, 0.919, 0.813, 0.994]  \n4                                         [0.325]  \n...                                           ...  \n140104                                    [0.372]  \n140105                                    [0.313]  \n140106                                    [0.993]  \n140107                                    [0.821]  \n140108                                    [0.969]  \n\n[140109 rows x 3 columns]",
      "text/html": "<div>\n<style scoped>\n    .dataframe tbody tr th:only-of-type {\n        vertical-align: middle;\n    }\n\n    .dataframe tbody tr th {\n        vertical-align: top;\n    }\n\n    .dataframe thead th {\n        text-align: right;\n    }\n</style>\n<table border=\"1\" class=\"dataframe\">\n  <thead>\n    <tr style=\"text-align: right;\">\n      <th></th>\n      <th>user_id</th>\n      <th>item_id</th>\n      <th>raiting</th>\n    </tr>\n  </thead>\n  <tbody>\n    <tr>\n      <th>0</th>\n      <td>user_10000000</td>\n      <td>['video_1487101']</td>\n      <td>[0.43]</td>\n    </tr>\n    <tr>\n      <th>1</th>\n      <td>user_10000099</td>\n      <td>['video_856096']</td>\n      <td>[0.975]</td>\n    </tr>\n    <tr>\n      <th>2</th>\n      <td>user_1000020</td>\n      <td>['video_547304']</td>\n      <td>[0.307]</td>\n    </tr>\n    <tr>\n      <th>3</th>\n      <td>user_10000345</td>\n      <td>['video_1393364', 'video_2084529', 'video_4947...</td>\n      <td>[0.96, 0.885, 0.892, 0.919, 0.813, 0.994]</td>\n    </tr>\n    <tr>\n      <th>4</th>\n      <td>user_10000388</td>\n      <td>['video_283933']</td>\n      <td>[0.325]</td>\n    </tr>\n    <tr>\n      <th>...</th>\n      <td>...</td>\n      <td>...</td>\n      <td>...</td>\n    </tr>\n    <tr>\n      <th>140104</th>\n      <td>user_9998487</td>\n      <td>['video_1893827']</td>\n      <td>[0.372]</td>\n    </tr>\n    <tr>\n      <th>140105</th>\n      <td>user_9998803</td>\n      <td>['video_984416']</td>\n      <td>[0.313]</td>\n    </tr>\n    <tr>\n      <th>140106</th>\n      <td>user_9999389</td>\n      <td>['video_1250322']</td>\n      <td>[0.993]</td>\n    </tr>\n    <tr>\n      <th>140107</th>\n      <td>user_9999509</td>\n      <td>['video_1409879']</td>\n      <td>[0.821]</td>\n    </tr>\n    <tr>\n      <th>140108</th>\n      <td>user_9999659</td>\n      <td>['video_61502']</td>\n      <td>[0.969]</td>\n    </tr>\n  </tbody>\n</table>\n<p>140109 rows × 3 columns</p>\n</div>"
     },
     "execution_count": 10,
     "metadata": {},
     "output_type": "execute_result"
    }
   ],
   "source": [
    "df = train_df[['user_id','item_id','raiting']]\n",
    "df"
   ],
   "metadata": {
    "collapsed": false
   }
  },
  {
   "cell_type": "code",
   "execution_count": 11,
   "outputs": [],
   "source": [
    "clean_data = []\n",
    "for i, row in df.iterrows():\n",
    "    if len(row.values[1]) >= len(row.values[2]):\n",
    "        length = len(row.values[1])\n",
    "    else:\n",
    "        length = len(row.values[2])\n",
    "    for j in range(length):\n",
    "        clean_data.append([pd.to_numeric(row.values[0].strip(\"user_\")), pd.to_numeric(row.values[1][j].strip(\"'\").strip(\"video_\")), pd.to_numeric(row.values[2][j])])"
   ],
   "metadata": {
    "collapsed": false
   }
  },
  {
   "cell_type": "code",
   "execution_count": 12,
   "outputs": [],
   "source": [
    "clean_data_df = pd.DataFrame(clean_data, columns=['user_id','item_id','raiting'])\n"
   ],
   "metadata": {
    "collapsed": false
   }
  },
  {
   "cell_type": "code",
   "execution_count": 13,
   "outputs": [
    {
     "data": {
      "text/plain": "         user_id  item_id  raiting\n0       10000000  1487101    0.430\n1       10000099   856096    0.975\n2        1000020   547304    0.307\n3       10000345  1393364    0.960\n4       10000345  2084529    0.885\n...          ...      ...      ...\n396153   9998487  1893827    0.372\n396154   9998803   984416    0.313\n396155   9999389  1250322    0.993\n396156   9999509  1409879    0.821\n396157   9999659    61502    0.969\n\n[396158 rows x 3 columns]",
      "text/html": "<div>\n<style scoped>\n    .dataframe tbody tr th:only-of-type {\n        vertical-align: middle;\n    }\n\n    .dataframe tbody tr th {\n        vertical-align: top;\n    }\n\n    .dataframe thead th {\n        text-align: right;\n    }\n</style>\n<table border=\"1\" class=\"dataframe\">\n  <thead>\n    <tr style=\"text-align: right;\">\n      <th></th>\n      <th>user_id</th>\n      <th>item_id</th>\n      <th>raiting</th>\n    </tr>\n  </thead>\n  <tbody>\n    <tr>\n      <th>0</th>\n      <td>10000000</td>\n      <td>1487101</td>\n      <td>0.430</td>\n    </tr>\n    <tr>\n      <th>1</th>\n      <td>10000099</td>\n      <td>856096</td>\n      <td>0.975</td>\n    </tr>\n    <tr>\n      <th>2</th>\n      <td>1000020</td>\n      <td>547304</td>\n      <td>0.307</td>\n    </tr>\n    <tr>\n      <th>3</th>\n      <td>10000345</td>\n      <td>1393364</td>\n      <td>0.960</td>\n    </tr>\n    <tr>\n      <th>4</th>\n      <td>10000345</td>\n      <td>2084529</td>\n      <td>0.885</td>\n    </tr>\n    <tr>\n      <th>...</th>\n      <td>...</td>\n      <td>...</td>\n      <td>...</td>\n    </tr>\n    <tr>\n      <th>396153</th>\n      <td>9998487</td>\n      <td>1893827</td>\n      <td>0.372</td>\n    </tr>\n    <tr>\n      <th>396154</th>\n      <td>9998803</td>\n      <td>984416</td>\n      <td>0.313</td>\n    </tr>\n    <tr>\n      <th>396155</th>\n      <td>9999389</td>\n      <td>1250322</td>\n      <td>0.993</td>\n    </tr>\n    <tr>\n      <th>396156</th>\n      <td>9999509</td>\n      <td>1409879</td>\n      <td>0.821</td>\n    </tr>\n    <tr>\n      <th>396157</th>\n      <td>9999659</td>\n      <td>61502</td>\n      <td>0.969</td>\n    </tr>\n  </tbody>\n</table>\n<p>396158 rows × 3 columns</p>\n</div>"
     },
     "execution_count": 13,
     "metadata": {},
     "output_type": "execute_result"
    }
   ],
   "source": [
    "clean_data_df"
   ],
   "metadata": {
    "collapsed": false
   }
  },
  {
   "cell_type": "code",
   "execution_count": 14,
   "outputs": [],
   "source": [
    "clean_data_df.to_csv(\"clean_data_df.csv\", index=False)"
   ],
   "metadata": {
    "collapsed": false
   }
  },
  {
   "cell_type": "code",
   "execution_count": 23,
   "outputs": [],
   "source": [
    "from pyspark.sql.functions import col, explode\n",
    "from pyspark import SparkContext"
   ],
   "metadata": {
    "collapsed": false
   }
  },
  {
   "cell_type": "code",
   "execution_count": 24,
   "outputs": [],
   "source": [
    "from pyspark.sql import SparkSession\n",
    "sc = SparkContext\n",
    "# sc.setCheckpointDir('checkpoint')\n",
    "spark = SparkSession.builder.appName('Recommendations').getOrCreate()"
   ],
   "metadata": {
    "collapsed": false
   }
  },
  {
   "cell_type": "code",
   "execution_count": 25,
   "outputs": [],
   "source": [
    "ratings = spark.createDataFrame(clean_data_df)"
   ],
   "metadata": {
    "collapsed": false
   }
  },
  {
   "cell_type": "code",
   "execution_count": 26,
   "outputs": [],
   "source": [
    "from pyspark.ml.evaluation import RegressionEvaluator\n",
    "from pyspark.ml.recommendation import ALS\n",
    "from pyspark.ml.tuning import ParamGridBuilder, CrossValidator"
   ],
   "metadata": {
    "collapsed": false
   }
  },
  {
   "cell_type": "code",
   "execution_count": 27,
   "outputs": [
    {
     "data": {
      "text/plain": "pyspark.ml.recommendation.ALS"
     },
     "execution_count": 27,
     "metadata": {},
     "output_type": "execute_result"
    }
   ],
   "source": [
    "# Create test and train set\n",
    "(train, test) = ratings.randomSplit([0.8, 0.2], seed = 1234)\n",
    "\n",
    "# Create ALS model\n",
    "als = ALS(userCol=\"user_id\", itemCol=\"item_id\", ratingCol=\"raiting\", nonnegative = True, implicitPrefs = False, coldStartStrategy=\"drop\")\n",
    "\n",
    "# Confirm that a model called \"als\" was created\n",
    "type(als)"
   ],
   "metadata": {
    "collapsed": false
   }
  },
  {
   "cell_type": "code",
   "execution_count": 28,
   "outputs": [
    {
     "name": "stdout",
     "output_type": "stream",
     "text": [
      "Num models to be tested:  16\n"
     ]
    }
   ],
   "source": [
    "from pyspark.ml.evaluation import RegressionEvaluator\n",
    "from pyspark.ml.tuning import ParamGridBuilder, CrossValidator\n",
    "\n",
    "# Add hyperparameters and their respective values to param_grid\n",
    "param_grid = ParamGridBuilder() \\\n",
    "            .addGrid(als.rank, [10, 50, 100, 150]) \\\n",
    "            .addGrid(als.regParam, [.01, .05, .1, .15]) \\\n",
    "            .build()\n",
    "            #             .addGrid(als.maxIter, [5, 50, 100, 200]) \\\n",
    "\n",
    "\n",
    "# Define evaluator as RMSE and print length of evaluator\n",
    "evaluator = RegressionEvaluator(metricName=\"rmse\", labelCol=\"raiting\", predictionCol=\"prediction\")\n",
    "print (\"Num models to be tested: \", len(param_grid))"
   ],
   "metadata": {
    "collapsed": false
   }
  },
  {
   "cell_type": "code",
   "execution_count": 29,
   "outputs": [
    {
     "name": "stdout",
     "output_type": "stream",
     "text": [
      "CrossValidator_2c79e3fd2ec8\n"
     ]
    }
   ],
   "source": [
    "# Build cross validation using CrossValidator\n",
    "cv = CrossValidator(estimator=als, estimatorParamMaps=param_grid, evaluator=evaluator, numFolds=5)\n",
    "\n",
    "# Confirm cv was built\n",
    "print(cv)"
   ],
   "metadata": {
    "collapsed": false
   }
  },
  {
   "cell_type": "code",
   "execution_count": null,
   "outputs": [],
   "source": [
    "#Fit cross validator to the 'train' dataset\n",
    "model = cv.fit(train)\n",
    "\n",
    "#Extract best model from the cv model above\n",
    "best_model = model.bestModel"
   ],
   "metadata": {
    "collapsed": false,
    "pycharm": {
     "is_executing": true
    }
   }
  },
  {
   "cell_type": "code",
   "execution_count": null,
   "outputs": [],
   "source": [],
   "metadata": {
    "collapsed": false
   }
  }
 ],
 "metadata": {
  "kernelspec": {
   "display_name": "Python 3",
   "language": "python",
   "name": "python3"
  },
  "language_info": {
   "codemirror_mode": {
    "name": "ipython",
    "version": 2
   },
   "file_extension": ".py",
   "mimetype": "text/x-python",
   "name": "python",
   "nbconvert_exporter": "python",
   "pygments_lexer": "ipython2",
   "version": "2.7.6"
  }
 },
 "nbformat": 4,
 "nbformat_minor": 0
}
